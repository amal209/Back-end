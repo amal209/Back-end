{
 "cells": [
  {
   "cell_type": "markdown",
   "id": "5d3e92a9",
   "metadata": {},
   "source": [
    "# I. Extract\n",
    "We will extract the population, fertility rate and urban population for each Region of the world (Africa, Asia, Europe, South America, North America, Oceania)\n",
    "\n",
    "##### For the scraping, we will use Selenium"
   ]
  },
  {
   "cell_type": "code",
   "execution_count": 1,
   "id": "bb77a055",
   "metadata": {},
   "outputs": [],
   "source": [
    "from selenium import webdriver\n",
    "from selenium.webdriver.common.keys import Keys\n",
    "import pandas as pd\n",
    "from selenium.webdriver.common.by import By"
   ]
  },
  {
   "cell_type": "markdown",
   "id": "207d601c",
   "metadata": {},
   "source": [
    "### Chrome webDriver"
   ]
  },
  {
   "cell_type": "code",
   "execution_count": 2,
   "id": "50f5b68d",
   "metadata": {},
   "outputs": [
    {
     "name": "stderr",
     "output_type": "stream",
     "text": [
      "C:\\Users\\Amal\\AppData\\Local\\Temp\\ipykernel_14712\\1393778512.py:2: DeprecationWarning: executable_path has been deprecated, please pass in a Service object\n",
      "  driver = webdriver.Chrome('C:/Users/Amal/Desktop/chromedriver')\n"
     ]
    }
   ],
   "source": [
    "#Chrome webDriver\n",
    "driver = webdriver.Chrome('C:/Users/Amal/Desktop/chromedriver')"
   ]
  },
  {
   "cell_type": "markdown",
   "id": "f08a8580",
   "metadata": {},
   "source": [
    "### Scraping Function"
   ]
  },
  {
   "cell_type": "code",
   "execution_count": 3,
   "id": "a82d906e",
   "metadata": {},
   "outputs": [],
   "source": [
    "import numpy as np\n",
    "def scrapingByRegion(url):\n",
    "    driver.get(url)\n",
    "    #years\n",
    "    years = driver.find_elements(by=By.XPATH, value='//table[@class=\"table table-striped table-bordered table-hover table-condensed table-list\"]/tbody/tr/td[1]')\n",
    "    years_list = []\n",
    "    for y in range(len(years)):\n",
    "        years_list.append(years[y].text)\n",
    "    #print(years_list)\n",
    "    \n",
    "    #population\n",
    "    population = driver.find_elements(by=By.XPATH, value='//table[@class=\"table table-striped table-bordered table-hover table-condensed table-list\"]/tbody/tr/td[2]')\n",
    "    population_list = []\n",
    "    for p in range(len(population)):\n",
    "        population_list.append(population[p].text)\n",
    "    #print(population_list)\n",
    "    \n",
    "    #Fertility Rate\n",
    "    fertilityRate = driver.find_elements(by=By.XPATH, value='//table[@class=\"table table-striped table-bordered table-hover table-condensed table-list\"]/tbody/tr/td[7]')\n",
    "    fertilityRate_list = []\n",
    "    for f in range(len(fertilityRate)):\n",
    "        fertilityRate_list.append(fertilityRate[f].text)\n",
    "    #print(fertilityRate_list)\n",
    "    \n",
    "    #Urban Population\n",
    "    urbanPopulation = driver.find_elements(by=By.XPATH, value='//table[@class=\"table table-striped table-bordered table-hover table-condensed table-list\"]/tbody/tr/td[10]')\n",
    "    urbanPopulation_list = []\n",
    "    for up in range(len(urbanPopulation)):\n",
    "        urbanPopulation_list.append(urbanPopulation[up].text)\n",
    "    #print(urbanPopulation_list)\n",
    "    \n",
    "    #Create Dataframe\n",
    "    population_df = pd.DataFrame(list(zip(years_list, population_list, fertilityRate_list, urbanPopulation_list)),\n",
    "               columns =['Year', 'Population','Fertility Rate','Urban Population'])\n",
    "    return population_df\n"
   ]
  },
  {
   "cell_type": "markdown",
   "id": "c00c4847",
   "metadata": {},
   "source": [
    "### Call the scraping function and create a dataframe for each region"
   ]
  },
  {
   "cell_type": "code",
   "execution_count": 4,
   "id": "e1787fff",
   "metadata": {},
   "outputs": [
    {
     "data": {
      "text/html": [
       "<div>\n",
       "<style scoped>\n",
       "    .dataframe tbody tr th:only-of-type {\n",
       "        vertical-align: middle;\n",
       "    }\n",
       "\n",
       "    .dataframe tbody tr th {\n",
       "        vertical-align: top;\n",
       "    }\n",
       "\n",
       "    .dataframe thead th {\n",
       "        text-align: right;\n",
       "    }\n",
       "</style>\n",
       "<table border=\"1\" class=\"dataframe\">\n",
       "  <thead>\n",
       "    <tr style=\"text-align: right;\">\n",
       "      <th></th>\n",
       "      <th>Year</th>\n",
       "      <th>Population</th>\n",
       "      <th>Fertility Rate</th>\n",
       "      <th>Urban Population</th>\n",
       "    </tr>\n",
       "  </thead>\n",
       "  <tbody>\n",
       "    <tr>\n",
       "      <th>0</th>\n",
       "      <td>2020</td>\n",
       "      <td>1,340,598,147</td>\n",
       "      <td>4.44</td>\n",
       "      <td>587,737,793</td>\n",
       "    </tr>\n",
       "    <tr>\n",
       "      <th>1</th>\n",
       "      <td>2019</td>\n",
       "      <td>1,308,064,195</td>\n",
       "      <td>4.67</td>\n",
       "      <td>567,387,619</td>\n",
       "    </tr>\n",
       "    <tr>\n",
       "      <th>2</th>\n",
       "      <td>2018</td>\n",
       "      <td>1,275,920,972</td>\n",
       "      <td>4.67</td>\n",
       "      <td>547,602,182</td>\n",
       "    </tr>\n",
       "    <tr>\n",
       "      <th>3</th>\n",
       "      <td>2017</td>\n",
       "      <td>1,244,222,267</td>\n",
       "      <td>4.67</td>\n",
       "      <td>528,371,323</td>\n",
       "    </tr>\n",
       "    <tr>\n",
       "      <th>4</th>\n",
       "      <td>2016</td>\n",
       "      <td>1,213,040,521</td>\n",
       "      <td>4.67</td>\n",
       "      <td>509,683,886</td>\n",
       "    </tr>\n",
       "  </tbody>\n",
       "</table>\n",
       "</div>"
      ],
      "text/plain": [
       "   Year     Population Fertility Rate Urban Population\n",
       "0  2020  1,340,598,147           4.44      587,737,793\n",
       "1  2019  1,308,064,195           4.67      567,387,619\n",
       "2  2018  1,275,920,972           4.67      547,602,182\n",
       "3  2017  1,244,222,267           4.67      528,371,323\n",
       "4  2016  1,213,040,521           4.67      509,683,886"
      ]
     },
     "execution_count": 4,
     "metadata": {},
     "output_type": "execute_result"
    }
   ],
   "source": [
    "african_df = scrapingByRegion('https://www.worldometers.info/world-population/africa-population/')\n",
    "african_df.head()"
   ]
  },
  {
   "cell_type": "code",
   "execution_count": 5,
   "id": "ee6ca57b",
   "metadata": {},
   "outputs": [
    {
     "data": {
      "text/html": [
       "<div>\n",
       "<style scoped>\n",
       "    .dataframe tbody tr th:only-of-type {\n",
       "        vertical-align: middle;\n",
       "    }\n",
       "\n",
       "    .dataframe tbody tr th {\n",
       "        vertical-align: top;\n",
       "    }\n",
       "\n",
       "    .dataframe thead th {\n",
       "        text-align: right;\n",
       "    }\n",
       "</style>\n",
       "<table border=\"1\" class=\"dataframe\">\n",
       "  <thead>\n",
       "    <tr style=\"text-align: right;\">\n",
       "      <th></th>\n",
       "      <th>Year</th>\n",
       "      <th>Population</th>\n",
       "      <th>Fertility Rate</th>\n",
       "      <th>Urban Population</th>\n",
       "    </tr>\n",
       "  </thead>\n",
       "  <tbody>\n",
       "    <tr>\n",
       "      <th>0</th>\n",
       "      <td>2020</td>\n",
       "      <td>4,641,054,775</td>\n",
       "      <td>2.15</td>\n",
       "      <td>2,361,464,416</td>\n",
       "    </tr>\n",
       "    <tr>\n",
       "      <th>1</th>\n",
       "      <td>2019</td>\n",
       "      <td>4,601,371,198</td>\n",
       "      <td>2.20</td>\n",
       "      <td>2,314,051,549</td>\n",
       "    </tr>\n",
       "    <tr>\n",
       "      <th>2</th>\n",
       "      <td>2018</td>\n",
       "      <td>4,560,667,108</td>\n",
       "      <td>2.20</td>\n",
       "      <td>2,266,130,580</td>\n",
       "    </tr>\n",
       "    <tr>\n",
       "      <th>3</th>\n",
       "      <td>2017</td>\n",
       "      <td>4,519,040,027</td>\n",
       "      <td>2.20</td>\n",
       "      <td>2,217,723,679</td>\n",
       "    </tr>\n",
       "    <tr>\n",
       "      <th>4</th>\n",
       "      <td>2016</td>\n",
       "      <td>4,476,607,853</td>\n",
       "      <td>2.20</td>\n",
       "      <td>2,168,879,760</td>\n",
       "    </tr>\n",
       "  </tbody>\n",
       "</table>\n",
       "</div>"
      ],
      "text/plain": [
       "   Year     Population Fertility Rate Urban Population\n",
       "0  2020  4,641,054,775           2.15    2,361,464,416\n",
       "1  2019  4,601,371,198           2.20    2,314,051,549\n",
       "2  2018  4,560,667,108           2.20    2,266,130,580\n",
       "3  2017  4,519,040,027           2.20    2,217,723,679\n",
       "4  2016  4,476,607,853           2.20    2,168,879,760"
      ]
     },
     "execution_count": 5,
     "metadata": {},
     "output_type": "execute_result"
    }
   ],
   "source": [
    "asian_df = scrapingByRegion('https://www.worldometers.info/world-population/asia-population/')\n",
    "asian_df.head()"
   ]
  },
  {
   "cell_type": "code",
   "execution_count": 6,
   "id": "53d105e6",
   "metadata": {},
   "outputs": [
    {
     "data": {
      "text/html": [
       "<div>\n",
       "<style scoped>\n",
       "    .dataframe tbody tr th:only-of-type {\n",
       "        vertical-align: middle;\n",
       "    }\n",
       "\n",
       "    .dataframe tbody tr th {\n",
       "        vertical-align: top;\n",
       "    }\n",
       "\n",
       "    .dataframe thead th {\n",
       "        text-align: right;\n",
       "    }\n",
       "</style>\n",
       "<table border=\"1\" class=\"dataframe\">\n",
       "  <thead>\n",
       "    <tr style=\"text-align: right;\">\n",
       "      <th></th>\n",
       "      <th>Year</th>\n",
       "      <th>Population</th>\n",
       "      <th>Fertility Rate</th>\n",
       "      <th>Urban Population</th>\n",
       "    </tr>\n",
       "  </thead>\n",
       "  <tbody>\n",
       "    <tr>\n",
       "      <th>0</th>\n",
       "      <td>2020</td>\n",
       "      <td>747,636,026</td>\n",
       "      <td>1.61</td>\n",
       "      <td>556,684,039</td>\n",
       "    </tr>\n",
       "    <tr>\n",
       "      <th>1</th>\n",
       "      <td>2019</td>\n",
       "      <td>747,182,751</td>\n",
       "      <td>1.60</td>\n",
       "      <td>554,832,332</td>\n",
       "    </tr>\n",
       "    <tr>\n",
       "      <th>2</th>\n",
       "      <td>2018</td>\n",
       "      <td>746,419,440</td>\n",
       "      <td>1.60</td>\n",
       "      <td>552,911,225</td>\n",
       "    </tr>\n",
       "    <tr>\n",
       "      <th>3</th>\n",
       "      <td>2017</td>\n",
       "      <td>745,414,735</td>\n",
       "      <td>1.60</td>\n",
       "      <td>550,959,276</td>\n",
       "    </tr>\n",
       "    <tr>\n",
       "      <th>4</th>\n",
       "      <td>2016</td>\n",
       "      <td>744,268,827</td>\n",
       "      <td>1.60</td>\n",
       "      <td>549,030,165</td>\n",
       "    </tr>\n",
       "  </tbody>\n",
       "</table>\n",
       "</div>"
      ],
      "text/plain": [
       "   Year   Population Fertility Rate Urban Population\n",
       "0  2020  747,636,026           1.61      556,684,039\n",
       "1  2019  747,182,751           1.60      554,832,332\n",
       "2  2018  746,419,440           1.60      552,911,225\n",
       "3  2017  745,414,735           1.60      550,959,276\n",
       "4  2016  744,268,827           1.60      549,030,165"
      ]
     },
     "execution_count": 6,
     "metadata": {},
     "output_type": "execute_result"
    }
   ],
   "source": [
    "european_df = scrapingByRegion('https://www.worldometers.info/world-population/europe-population/')\n",
    "european_df.head()"
   ]
  },
  {
   "cell_type": "code",
   "execution_count": 7,
   "id": "73b13af0",
   "metadata": {},
   "outputs": [
    {
     "data": {
      "text/html": [
       "<div>\n",
       "<style scoped>\n",
       "    .dataframe tbody tr th:only-of-type {\n",
       "        vertical-align: middle;\n",
       "    }\n",
       "\n",
       "    .dataframe tbody tr th {\n",
       "        vertical-align: top;\n",
       "    }\n",
       "\n",
       "    .dataframe thead th {\n",
       "        text-align: right;\n",
       "    }\n",
       "</style>\n",
       "<table border=\"1\" class=\"dataframe\">\n",
       "  <thead>\n",
       "    <tr style=\"text-align: right;\">\n",
       "      <th></th>\n",
       "      <th>Year</th>\n",
       "      <th>Population</th>\n",
       "      <th>Fertility Rate</th>\n",
       "      <th>Urban Population</th>\n",
       "    </tr>\n",
       "  </thead>\n",
       "  <tbody>\n",
       "    <tr>\n",
       "      <th>0</th>\n",
       "      <td>2020</td>\n",
       "      <td>653,962,331</td>\n",
       "      <td>2.04</td>\n",
       "      <td>539,427,335</td>\n",
       "    </tr>\n",
       "    <tr>\n",
       "      <th>1</th>\n",
       "      <td>2019</td>\n",
       "      <td>648,120,957</td>\n",
       "      <td>2.12</td>\n",
       "      <td>532,783,467</td>\n",
       "    </tr>\n",
       "    <tr>\n",
       "      <th>2</th>\n",
       "      <td>2018</td>\n",
       "      <td>642,216,682</td>\n",
       "      <td>2.12</td>\n",
       "      <td>526,057,192</td>\n",
       "    </tr>\n",
       "    <tr>\n",
       "      <th>3</th>\n",
       "      <td>2017</td>\n",
       "      <td>636,233,123</td>\n",
       "      <td>2.12</td>\n",
       "      <td>519,249,889</td>\n",
       "    </tr>\n",
       "    <tr>\n",
       "      <th>4</th>\n",
       "      <td>2016</td>\n",
       "      <td>630,144,555</td>\n",
       "      <td>2.12</td>\n",
       "      <td>512,362,472</td>\n",
       "    </tr>\n",
       "  </tbody>\n",
       "</table>\n",
       "</div>"
      ],
      "text/plain": [
       "   Year   Population Fertility Rate Urban Population\n",
       "0  2020  653,962,331           2.04      539,427,335\n",
       "1  2019  648,120,957           2.12      532,783,467\n",
       "2  2018  642,216,682           2.12      526,057,192\n",
       "3  2017  636,233,123           2.12      519,249,889\n",
       "4  2016  630,144,555           2.12      512,362,472"
      ]
     },
     "execution_count": 7,
     "metadata": {},
     "output_type": "execute_result"
    }
   ],
   "source": [
    "southAmerican_df = scrapingByRegion('https://www.worldometers.info/world-population/latin-america-and-the-caribbean-population/')\n",
    "southAmerican_df.head()"
   ]
  },
  {
   "cell_type": "code",
   "execution_count": 8,
   "id": "455af52b",
   "metadata": {},
   "outputs": [
    {
     "data": {
      "text/html": [
       "<div>\n",
       "<style scoped>\n",
       "    .dataframe tbody tr th:only-of-type {\n",
       "        vertical-align: middle;\n",
       "    }\n",
       "\n",
       "    .dataframe tbody tr th {\n",
       "        vertical-align: top;\n",
       "    }\n",
       "\n",
       "    .dataframe thead th {\n",
       "        text-align: right;\n",
       "    }\n",
       "</style>\n",
       "<table border=\"1\" class=\"dataframe\">\n",
       "  <thead>\n",
       "    <tr style=\"text-align: right;\">\n",
       "      <th></th>\n",
       "      <th>Year</th>\n",
       "      <th>Population</th>\n",
       "      <th>Fertility Rate</th>\n",
       "      <th>Urban Population</th>\n",
       "    </tr>\n",
       "  </thead>\n",
       "  <tbody>\n",
       "    <tr>\n",
       "      <th>0</th>\n",
       "      <td>2020</td>\n",
       "      <td>368,869,647</td>\n",
       "      <td>1.83</td>\n",
       "      <td>304,761,178</td>\n",
       "    </tr>\n",
       "    <tr>\n",
       "      <th>1</th>\n",
       "      <td>2019</td>\n",
       "      <td>366,600,964</td>\n",
       "      <td>1.83</td>\n",
       "      <td>301,858,117</td>\n",
       "    </tr>\n",
       "    <tr>\n",
       "      <th>2</th>\n",
       "      <td>2018</td>\n",
       "      <td>364,295,996</td>\n",
       "      <td>1.83</td>\n",
       "      <td>298,987,110</td>\n",
       "    </tr>\n",
       "    <tr>\n",
       "      <th>3</th>\n",
       "      <td>2017</td>\n",
       "      <td>361,942,268</td>\n",
       "      <td>1.83</td>\n",
       "      <td>296,153,390</td>\n",
       "    </tr>\n",
       "    <tr>\n",
       "      <th>4</th>\n",
       "      <td>2016</td>\n",
       "      <td>359,524,647</td>\n",
       "      <td>1.83</td>\n",
       "      <td>293,362,886</td>\n",
       "    </tr>\n",
       "  </tbody>\n",
       "</table>\n",
       "</div>"
      ],
      "text/plain": [
       "   Year   Population Fertility Rate Urban Population\n",
       "0  2020  368,869,647           1.83      304,761,178\n",
       "1  2019  366,600,964           1.83      301,858,117\n",
       "2  2018  364,295,996           1.83      298,987,110\n",
       "3  2017  361,942,268           1.83      296,153,390\n",
       "4  2016  359,524,647           1.83      293,362,886"
      ]
     },
     "execution_count": 8,
     "metadata": {},
     "output_type": "execute_result"
    }
   ],
   "source": [
    "northAmerican_df = scrapingByRegion('https://www.worldometers.info/world-population/northern-america-population/')\n",
    "northAmerican_df.head()"
   ]
  },
  {
   "cell_type": "code",
   "execution_count": 9,
   "id": "0e792768",
   "metadata": {},
   "outputs": [
    {
     "data": {
      "text/html": [
       "<div>\n",
       "<style scoped>\n",
       "    .dataframe tbody tr th:only-of-type {\n",
       "        vertical-align: middle;\n",
       "    }\n",
       "\n",
       "    .dataframe tbody tr th {\n",
       "        vertical-align: top;\n",
       "    }\n",
       "\n",
       "    .dataframe thead th {\n",
       "        text-align: right;\n",
       "    }\n",
       "</style>\n",
       "<table border=\"1\" class=\"dataframe\">\n",
       "  <thead>\n",
       "    <tr style=\"text-align: right;\">\n",
       "      <th></th>\n",
       "      <th>Year</th>\n",
       "      <th>Population</th>\n",
       "      <th>Fertility Rate</th>\n",
       "      <th>Urban Population</th>\n",
       "    </tr>\n",
       "  </thead>\n",
       "  <tbody>\n",
       "    <tr>\n",
       "      <th>0</th>\n",
       "      <td>2020</td>\n",
       "      <td>42,677,813</td>\n",
       "      <td>2.36</td>\n",
       "      <td>28,919,183</td>\n",
       "    </tr>\n",
       "    <tr>\n",
       "      <th>1</th>\n",
       "      <td>2019</td>\n",
       "      <td>42,128,035</td>\n",
       "      <td>2.42</td>\n",
       "      <td>28,525,534</td>\n",
       "    </tr>\n",
       "    <tr>\n",
       "      <th>2</th>\n",
       "      <td>2018</td>\n",
       "      <td>41,570,842</td>\n",
       "      <td>2.42</td>\n",
       "      <td>28,129,029</td>\n",
       "    </tr>\n",
       "    <tr>\n",
       "      <th>3</th>\n",
       "      <td>2017</td>\n",
       "      <td>41,006,505</td>\n",
       "      <td>2.42</td>\n",
       "      <td>27,731,037</td>\n",
       "    </tr>\n",
       "    <tr>\n",
       "      <th>4</th>\n",
       "      <td>2016</td>\n",
       "      <td>40,435,646</td>\n",
       "      <td>2.42</td>\n",
       "      <td>27,333,514</td>\n",
       "    </tr>\n",
       "  </tbody>\n",
       "</table>\n",
       "</div>"
      ],
      "text/plain": [
       "   Year  Population Fertility Rate Urban Population\n",
       "0  2020  42,677,813           2.36       28,919,183\n",
       "1  2019  42,128,035           2.42       28,525,534\n",
       "2  2018  41,570,842           2.42       28,129,029\n",
       "3  2017  41,006,505           2.42       27,731,037\n",
       "4  2016  40,435,646           2.42       27,333,514"
      ]
     },
     "execution_count": 9,
     "metadata": {},
     "output_type": "execute_result"
    }
   ],
   "source": [
    "oceanian_df = scrapingByRegion('https://www.worldometers.info/world-population/oceania-population/')\n",
    "oceanian_df.head()"
   ]
  },
  {
   "cell_type": "markdown",
   "id": "f84b343d",
   "metadata": {},
   "source": [
    "\n",
    "# II. Transform\n",
    "\n",
    " Our analysis is pretty simple (just a visualization), so we don't have too much tasks in this step.\n",
    " \n",
    "     1. Create new column: rural population \n",
    "     \n",
    "     2. For each parameter ( population, fertility rate ...) we will create a dataframe that contain the values of the 6 regions"
   ]
  },
  {
   "cell_type": "markdown",
   "id": "9589a1a8",
   "metadata": {},
   "source": [
    "### 1. Create new column: rural population "
   ]
  },
  {
   "cell_type": "code",
   "execution_count": 10,
   "id": "be5031bf",
   "metadata": {
    "scrolled": true
   },
   "outputs": [],
   "source": [
    "def createRPColumn(df):\n",
    "    df['Rural Population'] = df['Population'].str.replace(',','').astype('Int64', errors='ignore') - df['Urban Population'].str.replace(',','').astype('Int64', errors='ignore')\n",
    "    return df"
   ]
  },
  {
   "cell_type": "code",
   "execution_count": 11,
   "id": "1c673bdb",
   "metadata": {},
   "outputs": [],
   "source": [
    "african_df = createRPColumn(african_df)\n",
    "asian_df = createRPColumn(asian_df)\n",
    "european_df = createRPColumn(european_df)\n",
    "southAmerican_df = createRPColumn(southAmerican_df)\n",
    "northAmerican_df = createRPColumn(northAmerican_df)\n",
    "oceanian_df = createRPColumn(oceanian_df)"
   ]
  },
  {
   "cell_type": "code",
   "execution_count": 12,
   "id": "0d13eafd",
   "metadata": {},
   "outputs": [
    {
     "data": {
      "text/html": [
       "<div>\n",
       "<style scoped>\n",
       "    .dataframe tbody tr th:only-of-type {\n",
       "        vertical-align: middle;\n",
       "    }\n",
       "\n",
       "    .dataframe tbody tr th {\n",
       "        vertical-align: top;\n",
       "    }\n",
       "\n",
       "    .dataframe thead th {\n",
       "        text-align: right;\n",
       "    }\n",
       "</style>\n",
       "<table border=\"1\" class=\"dataframe\">\n",
       "  <thead>\n",
       "    <tr style=\"text-align: right;\">\n",
       "      <th></th>\n",
       "      <th>Year</th>\n",
       "      <th>Population</th>\n",
       "      <th>Fertility Rate</th>\n",
       "      <th>Urban Population</th>\n",
       "      <th>Rural Population</th>\n",
       "    </tr>\n",
       "  </thead>\n",
       "  <tbody>\n",
       "    <tr>\n",
       "      <th>0</th>\n",
       "      <td>2020</td>\n",
       "      <td>1,340,598,147</td>\n",
       "      <td>4.44</td>\n",
       "      <td>587,737,793</td>\n",
       "      <td>752860354</td>\n",
       "    </tr>\n",
       "    <tr>\n",
       "      <th>1</th>\n",
       "      <td>2019</td>\n",
       "      <td>1,308,064,195</td>\n",
       "      <td>4.67</td>\n",
       "      <td>567,387,619</td>\n",
       "      <td>740676576</td>\n",
       "    </tr>\n",
       "    <tr>\n",
       "      <th>2</th>\n",
       "      <td>2018</td>\n",
       "      <td>1,275,920,972</td>\n",
       "      <td>4.67</td>\n",
       "      <td>547,602,182</td>\n",
       "      <td>728318790</td>\n",
       "    </tr>\n",
       "    <tr>\n",
       "      <th>3</th>\n",
       "      <td>2017</td>\n",
       "      <td>1,244,222,267</td>\n",
       "      <td>4.67</td>\n",
       "      <td>528,371,323</td>\n",
       "      <td>715850944</td>\n",
       "    </tr>\n",
       "    <tr>\n",
       "      <th>4</th>\n",
       "      <td>2016</td>\n",
       "      <td>1,213,040,521</td>\n",
       "      <td>4.67</td>\n",
       "      <td>509,683,886</td>\n",
       "      <td>703356635</td>\n",
       "    </tr>\n",
       "  </tbody>\n",
       "</table>\n",
       "</div>"
      ],
      "text/plain": [
       "   Year     Population Fertility Rate Urban Population  Rural Population\n",
       "0  2020  1,340,598,147           4.44      587,737,793         752860354\n",
       "1  2019  1,308,064,195           4.67      567,387,619         740676576\n",
       "2  2018  1,275,920,972           4.67      547,602,182         728318790\n",
       "3  2017  1,244,222,267           4.67      528,371,323         715850944\n",
       "4  2016  1,213,040,521           4.67      509,683,886         703356635"
      ]
     },
     "execution_count": 12,
     "metadata": {},
     "output_type": "execute_result"
    }
   ],
   "source": [
    "african_df.head()"
   ]
  },
  {
   "cell_type": "markdown",
   "id": "f8d0a6e8",
   "metadata": {},
   "source": [
    "### 2. Create dataframe for each parameter"
   ]
  },
  {
   "cell_type": "markdown",
   "id": "40e6f3a7",
   "metadata": {},
   "source": [
    "### Population of all regions"
   ]
  },
  {
   "cell_type": "code",
   "execution_count": 13,
   "id": "dbb7ba78",
   "metadata": {},
   "outputs": [],
   "source": [
    "population= pd.DataFrame(columns =['Year', 'African Population','Asian Population','European Population','South American Population','North American Population','Oceanian Population'])\n",
    "population[\"Year\"] = african_df[\"Year\"]\n",
    "population[\"African Population\"] = african_df[\"Population\"]\n",
    "population[\"Asian Population\"] = asian_df[\"Population\"]\n",
    "population[\"European Population\"] = european_df[\"Population\"]\n",
    "population[\"South American Population\"] = southAmerican_df[\"Population\"]\n",
    "population[\"North American Population\"] = northAmerican_df[\"Population\"]\n",
    "population[\"Oceanian Population\"] = oceanian_df[\"Population\"]\n",
    "population = population.iloc[:18,:]"
   ]
  },
  {
   "cell_type": "code",
   "execution_count": 14,
   "id": "db5b9048",
   "metadata": {},
   "outputs": [
    {
     "data": {
      "text/html": [
       "<div>\n",
       "<style scoped>\n",
       "    .dataframe tbody tr th:only-of-type {\n",
       "        vertical-align: middle;\n",
       "    }\n",
       "\n",
       "    .dataframe tbody tr th {\n",
       "        vertical-align: top;\n",
       "    }\n",
       "\n",
       "    .dataframe thead th {\n",
       "        text-align: right;\n",
       "    }\n",
       "</style>\n",
       "<table border=\"1\" class=\"dataframe\">\n",
       "  <thead>\n",
       "    <tr style=\"text-align: right;\">\n",
       "      <th></th>\n",
       "      <th>Year</th>\n",
       "      <th>African Population</th>\n",
       "      <th>Asian Population</th>\n",
       "      <th>European Population</th>\n",
       "      <th>South American Population</th>\n",
       "      <th>North American Population</th>\n",
       "      <th>Oceanian Population</th>\n",
       "    </tr>\n",
       "  </thead>\n",
       "  <tbody>\n",
       "    <tr>\n",
       "      <th>0</th>\n",
       "      <td>2020</td>\n",
       "      <td>1,340,598,147</td>\n",
       "      <td>4,641,054,775</td>\n",
       "      <td>747,636,026</td>\n",
       "      <td>653,962,331</td>\n",
       "      <td>368,869,647</td>\n",
       "      <td>42,677,813</td>\n",
       "    </tr>\n",
       "    <tr>\n",
       "      <th>1</th>\n",
       "      <td>2019</td>\n",
       "      <td>1,308,064,195</td>\n",
       "      <td>4,601,371,198</td>\n",
       "      <td>747,182,751</td>\n",
       "      <td>648,120,957</td>\n",
       "      <td>366,600,964</td>\n",
       "      <td>42,128,035</td>\n",
       "    </tr>\n",
       "    <tr>\n",
       "      <th>2</th>\n",
       "      <td>2018</td>\n",
       "      <td>1,275,920,972</td>\n",
       "      <td>4,560,667,108</td>\n",
       "      <td>746,419,440</td>\n",
       "      <td>642,216,682</td>\n",
       "      <td>364,295,996</td>\n",
       "      <td>41,570,842</td>\n",
       "    </tr>\n",
       "    <tr>\n",
       "      <th>3</th>\n",
       "      <td>2017</td>\n",
       "      <td>1,244,222,267</td>\n",
       "      <td>4,519,040,027</td>\n",
       "      <td>745,414,735</td>\n",
       "      <td>636,233,123</td>\n",
       "      <td>361,942,268</td>\n",
       "      <td>41,006,505</td>\n",
       "    </tr>\n",
       "    <tr>\n",
       "      <th>4</th>\n",
       "      <td>2016</td>\n",
       "      <td>1,213,040,521</td>\n",
       "      <td>4,476,607,853</td>\n",
       "      <td>744,268,827</td>\n",
       "      <td>630,144,555</td>\n",
       "      <td>359,524,647</td>\n",
       "      <td>40,435,646</td>\n",
       "    </tr>\n",
       "  </tbody>\n",
       "</table>\n",
       "</div>"
      ],
      "text/plain": [
       "   Year African Population Asian Population European Population  \\\n",
       "0  2020      1,340,598,147    4,641,054,775         747,636,026   \n",
       "1  2019      1,308,064,195    4,601,371,198         747,182,751   \n",
       "2  2018      1,275,920,972    4,560,667,108         746,419,440   \n",
       "3  2017      1,244,222,267    4,519,040,027         745,414,735   \n",
       "4  2016      1,213,040,521    4,476,607,853         744,268,827   \n",
       "\n",
       "  South American Population North American Population Oceanian Population  \n",
       "0               653,962,331               368,869,647          42,677,813  \n",
       "1               648,120,957               366,600,964          42,128,035  \n",
       "2               642,216,682               364,295,996          41,570,842  \n",
       "3               636,233,123               361,942,268          41,006,505  \n",
       "4               630,144,555               359,524,647          40,435,646  "
      ]
     },
     "execution_count": 14,
     "metadata": {},
     "output_type": "execute_result"
    }
   ],
   "source": [
    "population.head()"
   ]
  },
  {
   "cell_type": "markdown",
   "id": "c83f7ca9",
   "metadata": {},
   "source": [
    "### Fertility Rate of all regions"
   ]
  },
  {
   "cell_type": "code",
   "execution_count": 15,
   "id": "1d4038c3",
   "metadata": {},
   "outputs": [
    {
     "data": {
      "text/html": [
       "<div>\n",
       "<style scoped>\n",
       "    .dataframe tbody tr th:only-of-type {\n",
       "        vertical-align: middle;\n",
       "    }\n",
       "\n",
       "    .dataframe tbody tr th {\n",
       "        vertical-align: top;\n",
       "    }\n",
       "\n",
       "    .dataframe thead th {\n",
       "        text-align: right;\n",
       "    }\n",
       "</style>\n",
       "<table border=\"1\" class=\"dataframe\">\n",
       "  <thead>\n",
       "    <tr style=\"text-align: right;\">\n",
       "      <th></th>\n",
       "      <th>Year</th>\n",
       "      <th>African FR</th>\n",
       "      <th>Asian FR</th>\n",
       "      <th>European FR</th>\n",
       "      <th>South American FR</th>\n",
       "      <th>North American FR</th>\n",
       "      <th>Oceanian FR</th>\n",
       "    </tr>\n",
       "  </thead>\n",
       "  <tbody>\n",
       "    <tr>\n",
       "      <th>0</th>\n",
       "      <td>2020</td>\n",
       "      <td>4.44</td>\n",
       "      <td>2.15</td>\n",
       "      <td>1.61</td>\n",
       "      <td>2.04</td>\n",
       "      <td>1.83</td>\n",
       "      <td>2.36</td>\n",
       "    </tr>\n",
       "    <tr>\n",
       "      <th>1</th>\n",
       "      <td>2019</td>\n",
       "      <td>4.67</td>\n",
       "      <td>2.20</td>\n",
       "      <td>1.60</td>\n",
       "      <td>2.12</td>\n",
       "      <td>1.83</td>\n",
       "      <td>2.42</td>\n",
       "    </tr>\n",
       "    <tr>\n",
       "      <th>2</th>\n",
       "      <td>2018</td>\n",
       "      <td>4.67</td>\n",
       "      <td>2.20</td>\n",
       "      <td>1.60</td>\n",
       "      <td>2.12</td>\n",
       "      <td>1.83</td>\n",
       "      <td>2.42</td>\n",
       "    </tr>\n",
       "    <tr>\n",
       "      <th>3</th>\n",
       "      <td>2017</td>\n",
       "      <td>4.67</td>\n",
       "      <td>2.20</td>\n",
       "      <td>1.60</td>\n",
       "      <td>2.12</td>\n",
       "      <td>1.83</td>\n",
       "      <td>2.42</td>\n",
       "    </tr>\n",
       "    <tr>\n",
       "      <th>4</th>\n",
       "      <td>2016</td>\n",
       "      <td>4.67</td>\n",
       "      <td>2.20</td>\n",
       "      <td>1.60</td>\n",
       "      <td>2.12</td>\n",
       "      <td>1.83</td>\n",
       "      <td>2.42</td>\n",
       "    </tr>\n",
       "  </tbody>\n",
       "</table>\n",
       "</div>"
      ],
      "text/plain": [
       "   Year African FR Asian FR European FR South American FR North American FR  \\\n",
       "0  2020       4.44     2.15        1.61              2.04              1.83   \n",
       "1  2019       4.67     2.20        1.60              2.12              1.83   \n",
       "2  2018       4.67     2.20        1.60              2.12              1.83   \n",
       "3  2017       4.67     2.20        1.60              2.12              1.83   \n",
       "4  2016       4.67     2.20        1.60              2.12              1.83   \n",
       "\n",
       "  Oceanian FR  \n",
       "0        2.36  \n",
       "1        2.42  \n",
       "2        2.42  \n",
       "3        2.42  \n",
       "4        2.42  "
      ]
     },
     "execution_count": 15,
     "metadata": {},
     "output_type": "execute_result"
    }
   ],
   "source": [
    "fertility_rate= pd.DataFrame(columns =['Year', 'African FR','Asian FR','European FR','South American FR','North American FR','Oceanian FR'])\n",
    "fertility_rate[\"Year\"] = african_df[\"Year\"]\n",
    "fertility_rate[\"African FR\"] = african_df[\"Fertility Rate\"]\n",
    "fertility_rate[\"Asian FR\"] = asian_df[\"Fertility Rate\"]\n",
    "fertility_rate[\"European FR\"] = european_df[\"Fertility Rate\"]\n",
    "fertility_rate[\"South American FR\"] = southAmerican_df[\"Fertility Rate\"]\n",
    "fertility_rate[\"North American FR\"] = northAmerican_df[\"Fertility Rate\"]\n",
    "fertility_rate[\"Oceanian FR\"] = oceanian_df[\"Fertility Rate\"]\n",
    "fertility_rate = fertility_rate.iloc[:18,:]\n",
    "fertility_rate.head()"
   ]
  },
  {
   "cell_type": "markdown",
   "id": "eb9d4445",
   "metadata": {},
   "source": [
    "### Urban Population of all regions"
   ]
  },
  {
   "cell_type": "code",
   "execution_count": 16,
   "id": "9a7794b3",
   "metadata": {},
   "outputs": [
    {
     "data": {
      "text/html": [
       "<div>\n",
       "<style scoped>\n",
       "    .dataframe tbody tr th:only-of-type {\n",
       "        vertical-align: middle;\n",
       "    }\n",
       "\n",
       "    .dataframe tbody tr th {\n",
       "        vertical-align: top;\n",
       "    }\n",
       "\n",
       "    .dataframe thead th {\n",
       "        text-align: right;\n",
       "    }\n",
       "</style>\n",
       "<table border=\"1\" class=\"dataframe\">\n",
       "  <thead>\n",
       "    <tr style=\"text-align: right;\">\n",
       "      <th></th>\n",
       "      <th>Year</th>\n",
       "      <th>African U.Population</th>\n",
       "      <th>Asian U.Population</th>\n",
       "      <th>European U.Population</th>\n",
       "      <th>South American U.Population</th>\n",
       "      <th>North American U.Population</th>\n",
       "      <th>Oceanian U.Population</th>\n",
       "    </tr>\n",
       "  </thead>\n",
       "  <tbody>\n",
       "    <tr>\n",
       "      <th>0</th>\n",
       "      <td>2020</td>\n",
       "      <td>587,737,793</td>\n",
       "      <td>2,361,464,416</td>\n",
       "      <td>556,684,039</td>\n",
       "      <td>539,427,335</td>\n",
       "      <td>304,761,178</td>\n",
       "      <td>28,919,183</td>\n",
       "    </tr>\n",
       "    <tr>\n",
       "      <th>1</th>\n",
       "      <td>2019</td>\n",
       "      <td>567,387,619</td>\n",
       "      <td>2,314,051,549</td>\n",
       "      <td>554,832,332</td>\n",
       "      <td>532,783,467</td>\n",
       "      <td>301,858,117</td>\n",
       "      <td>28,525,534</td>\n",
       "    </tr>\n",
       "    <tr>\n",
       "      <th>2</th>\n",
       "      <td>2018</td>\n",
       "      <td>547,602,182</td>\n",
       "      <td>2,266,130,580</td>\n",
       "      <td>552,911,225</td>\n",
       "      <td>526,057,192</td>\n",
       "      <td>298,987,110</td>\n",
       "      <td>28,129,029</td>\n",
       "    </tr>\n",
       "    <tr>\n",
       "      <th>3</th>\n",
       "      <td>2017</td>\n",
       "      <td>528,371,323</td>\n",
       "      <td>2,217,723,679</td>\n",
       "      <td>550,959,276</td>\n",
       "      <td>519,249,889</td>\n",
       "      <td>296,153,390</td>\n",
       "      <td>27,731,037</td>\n",
       "    </tr>\n",
       "    <tr>\n",
       "      <th>4</th>\n",
       "      <td>2016</td>\n",
       "      <td>509,683,886</td>\n",
       "      <td>2,168,879,760</td>\n",
       "      <td>549,030,165</td>\n",
       "      <td>512,362,472</td>\n",
       "      <td>293,362,886</td>\n",
       "      <td>27,333,514</td>\n",
       "    </tr>\n",
       "  </tbody>\n",
       "</table>\n",
       "</div>"
      ],
      "text/plain": [
       "   Year African U.Population Asian U.Population European U.Population  \\\n",
       "0  2020          587,737,793      2,361,464,416           556,684,039   \n",
       "1  2019          567,387,619      2,314,051,549           554,832,332   \n",
       "2  2018          547,602,182      2,266,130,580           552,911,225   \n",
       "3  2017          528,371,323      2,217,723,679           550,959,276   \n",
       "4  2016          509,683,886      2,168,879,760           549,030,165   \n",
       "\n",
       "  South American U.Population North American U.Population  \\\n",
       "0                 539,427,335                 304,761,178   \n",
       "1                 532,783,467                 301,858,117   \n",
       "2                 526,057,192                 298,987,110   \n",
       "3                 519,249,889                 296,153,390   \n",
       "4                 512,362,472                 293,362,886   \n",
       "\n",
       "  Oceanian U.Population  \n",
       "0            28,919,183  \n",
       "1            28,525,534  \n",
       "2            28,129,029  \n",
       "3            27,731,037  \n",
       "4            27,333,514  "
      ]
     },
     "execution_count": 16,
     "metadata": {},
     "output_type": "execute_result"
    }
   ],
   "source": [
    "urban_population= pd.DataFrame(columns =['Year', 'African U.Population','Asian U.Population','European U.Population','South American U.Population','North American U.Population','Oceanian U.Population'])\n",
    "urban_population[\"Year\"] = african_df[\"Year\"]\n",
    "urban_population[\"African U.Population\"] = african_df[\"Urban Population\"]\n",
    "urban_population[\"Asian U.Population\"] = asian_df[\"Urban Population\"]\n",
    "urban_population[\"European U.Population\"] = european_df[\"Urban Population\"]\n",
    "urban_population[\"South American U.Population\"] = southAmerican_df[\"Urban Population\"]\n",
    "urban_population[\"North American U.Population\"] = northAmerican_df[\"Urban Population\"]\n",
    "urban_population[\"Oceanian U.Population\"] = oceanian_df[\"Urban Population\"]\n",
    "urban_population = urban_population.iloc[:18,:]\n",
    "urban_population.head()"
   ]
  },
  {
   "cell_type": "markdown",
   "id": "6a9c8829",
   "metadata": {},
   "source": [
    "### Rural Population of all regions"
   ]
  },
  {
   "cell_type": "code",
   "execution_count": 17,
   "id": "b60b2332",
   "metadata": {},
   "outputs": [
    {
     "data": {
      "text/html": [
       "<div>\n",
       "<style scoped>\n",
       "    .dataframe tbody tr th:only-of-type {\n",
       "        vertical-align: middle;\n",
       "    }\n",
       "\n",
       "    .dataframe tbody tr th {\n",
       "        vertical-align: top;\n",
       "    }\n",
       "\n",
       "    .dataframe thead th {\n",
       "        text-align: right;\n",
       "    }\n",
       "</style>\n",
       "<table border=\"1\" class=\"dataframe\">\n",
       "  <thead>\n",
       "    <tr style=\"text-align: right;\">\n",
       "      <th></th>\n",
       "      <th>Year</th>\n",
       "      <th>African R.Population</th>\n",
       "      <th>Asian R.Population</th>\n",
       "      <th>European R.Population</th>\n",
       "      <th>South American R.Population</th>\n",
       "      <th>North American R.Population</th>\n",
       "      <th>Oceanian R.Population</th>\n",
       "    </tr>\n",
       "  </thead>\n",
       "  <tbody>\n",
       "    <tr>\n",
       "      <th>0</th>\n",
       "      <td>2020</td>\n",
       "      <td>752860354</td>\n",
       "      <td>2279590359</td>\n",
       "      <td>190951987</td>\n",
       "      <td>114534996</td>\n",
       "      <td>64108469</td>\n",
       "      <td>13758630</td>\n",
       "    </tr>\n",
       "    <tr>\n",
       "      <th>1</th>\n",
       "      <td>2019</td>\n",
       "      <td>740676576</td>\n",
       "      <td>2287319649</td>\n",
       "      <td>192350419</td>\n",
       "      <td>115337490</td>\n",
       "      <td>64742847</td>\n",
       "      <td>13602501</td>\n",
       "    </tr>\n",
       "    <tr>\n",
       "      <th>2</th>\n",
       "      <td>2018</td>\n",
       "      <td>728318790</td>\n",
       "      <td>2294536528</td>\n",
       "      <td>193508215</td>\n",
       "      <td>116159490</td>\n",
       "      <td>65308886</td>\n",
       "      <td>13441813</td>\n",
       "    </tr>\n",
       "    <tr>\n",
       "      <th>3</th>\n",
       "      <td>2017</td>\n",
       "      <td>715850944</td>\n",
       "      <td>2301316348</td>\n",
       "      <td>194455459</td>\n",
       "      <td>116983234</td>\n",
       "      <td>65788878</td>\n",
       "      <td>13275468</td>\n",
       "    </tr>\n",
       "    <tr>\n",
       "      <th>4</th>\n",
       "      <td>2016</td>\n",
       "      <td>703356635</td>\n",
       "      <td>2307728093</td>\n",
       "      <td>195238662</td>\n",
       "      <td>117782083</td>\n",
       "      <td>66161761</td>\n",
       "      <td>13102132</td>\n",
       "    </tr>\n",
       "  </tbody>\n",
       "</table>\n",
       "</div>"
      ],
      "text/plain": [
       "   Year  African R.Population  Asian R.Population  European R.Population  \\\n",
       "0  2020             752860354          2279590359              190951987   \n",
       "1  2019             740676576          2287319649              192350419   \n",
       "2  2018             728318790          2294536528              193508215   \n",
       "3  2017             715850944          2301316348              194455459   \n",
       "4  2016             703356635          2307728093              195238662   \n",
       "\n",
       "   South American R.Population  North American R.Population  \\\n",
       "0                    114534996                     64108469   \n",
       "1                    115337490                     64742847   \n",
       "2                    116159490                     65308886   \n",
       "3                    116983234                     65788878   \n",
       "4                    117782083                     66161761   \n",
       "\n",
       "   Oceanian R.Population  \n",
       "0               13758630  \n",
       "1               13602501  \n",
       "2               13441813  \n",
       "3               13275468  \n",
       "4               13102132  "
      ]
     },
     "execution_count": 17,
     "metadata": {},
     "output_type": "execute_result"
    }
   ],
   "source": [
    "rural_population= pd.DataFrame(columns =['Year', 'African R.Population','Asian R.Population','European R.Population','South American R.Population','North American R.Population','Oceanian R.Population'])\n",
    "rural_population[\"Year\"] = african_df[\"Year\"]\n",
    "rural_population[\"African R.Population\"] = african_df[\"Rural Population\"]\n",
    "rural_population[\"Asian R.Population\"] = asian_df[\"Rural Population\"]\n",
    "rural_population[\"European R.Population\"] = european_df[\"Rural Population\"]\n",
    "rural_population[\"South American R.Population\"] = southAmerican_df[\"Rural Population\"]\n",
    "rural_population[\"North American R.Population\"] = northAmerican_df[\"Rural Population\"]\n",
    "rural_population[\"Oceanian R.Population\"] = oceanian_df[\"Rural Population\"]\n",
    "rural_population = rural_population.iloc[:18,:]\n",
    "rural_population.head()"
   ]
  },
  {
   "cell_type": "code",
   "execution_count": null,
   "id": "7c7a03a1",
   "metadata": {},
   "outputs": [],
   "source": []
  },
  {
   "cell_type": "markdown",
   "id": "424c1fc2",
   "metadata": {},
   "source": [
    "\n",
    "# III. Load\n",
    "this is the final step of the ETL. In this step we will load our data to MongoDB"
   ]
  },
  {
   "cell_type": "code",
   "execution_count": 18,
   "id": "1bc71fc7",
   "metadata": {},
   "outputs": [],
   "source": [
    "import pandas as pd\n",
    "import pymongo\n",
    "import json\n",
    "\n",
    "# Making a connection with MongoClient\n",
    "client = pymongo.MongoClient(\"mongodb://localhost:27017\")\n",
    "#create db\n",
    "db = client[\"Population_db\"]"
   ]
  },
  {
   "cell_type": "markdown",
   "id": "dcfec87a",
   "metadata": {},
   "source": [
    "### Population Collection"
   ]
  },
  {
   "cell_type": "code",
   "execution_count": 19,
   "id": "cd1fd552",
   "metadata": {},
   "outputs": [
    {
     "data": {
      "text/plain": [
       "<pymongo.results.InsertManyResult at 0x199aa96f820>"
      ]
     },
     "execution_count": 19,
     "metadata": {},
     "output_type": "execute_result"
    }
   ],
   "source": [
    "#convert dataframe to dictionary\n",
    "data = population.to_dict(orient=\"records\")\n",
    "#save data to a mongodb collection \n",
    "db.population.insert_many(data)"
   ]
  },
  {
   "cell_type": "markdown",
   "id": "09252f47",
   "metadata": {},
   "source": [
    "### Fertility Rate Collection"
   ]
  },
  {
   "cell_type": "code",
   "execution_count": 21,
   "id": "7f9a1018",
   "metadata": {},
   "outputs": [
    {
     "data": {
      "text/plain": [
       "<pymongo.results.InsertManyResult at 0x199aad58880>"
      ]
     },
     "execution_count": 21,
     "metadata": {},
     "output_type": "execute_result"
    }
   ],
   "source": [
    "data = fertility_rate.to_dict(orient=\"records\")\n",
    "db.fertility_rate.insert_many(data)"
   ]
  },
  {
   "cell_type": "markdown",
   "id": "edd6c075",
   "metadata": {},
   "source": [
    "### Urban Population Collection"
   ]
  },
  {
   "cell_type": "code",
   "execution_count": 22,
   "id": "7cc3a074",
   "metadata": {},
   "outputs": [
    {
     "data": {
      "text/plain": [
       "<pymongo.results.InsertManyResult at 0x199aad11210>"
      ]
     },
     "execution_count": 22,
     "metadata": {},
     "output_type": "execute_result"
    }
   ],
   "source": [
    "data = urban_population.to_dict(orient=\"records\")\n",
    "db.urban_population.insert_many(data)"
   ]
  },
  {
   "cell_type": "markdown",
   "id": "20f2cb93",
   "metadata": {},
   "source": [
    "### Rural Population Collection"
   ]
  },
  {
   "cell_type": "code",
   "execution_count": 23,
   "id": "77fe9ac9",
   "metadata": {},
   "outputs": [
    {
     "data": {
      "text/plain": [
       "<pymongo.results.InsertManyResult at 0x199aad034c0>"
      ]
     },
     "execution_count": 23,
     "metadata": {},
     "output_type": "execute_result"
    }
   ],
   "source": [
    "data = rural_population.to_dict(orient=\"records\")\n",
    "db.ruralPopulation.insert_many(data)"
   ]
  },
  {
   "cell_type": "code",
   "execution_count": null,
   "id": "4ef8278f",
   "metadata": {},
   "outputs": [],
   "source": []
  },
  {
   "cell_type": "code",
   "execution_count": null,
   "id": "58187207",
   "metadata": {},
   "outputs": [],
   "source": []
  }
 ],
 "metadata": {
  "kernelspec": {
   "display_name": "Python 3 (ipykernel)",
   "language": "python",
   "name": "python3"
  },
  "language_info": {
   "codemirror_mode": {
    "name": "ipython",
    "version": 3
   },
   "file_extension": ".py",
   "mimetype": "text/x-python",
   "name": "python",
   "nbconvert_exporter": "python",
   "pygments_lexer": "ipython3",
   "version": "3.10.4"
  }
 },
 "nbformat": 4,
 "nbformat_minor": 5
}
