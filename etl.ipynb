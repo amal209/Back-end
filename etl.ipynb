{
 "cells": [
  {
   "cell_type": "markdown",
   "id": "5d3e92a9",
   "metadata": {},
   "source": [
    "# I. Extract\n",
    "We will extract the population, fertility rate and urban population for each Region of the world (Africa, Asia, Europe, South America, North America, Oceania)\n",
    "\n",
    "##### For the scraping, we will use Selenium"
   ]
  },
  {
   "cell_type": "code",
   "execution_count": 2,
   "id": "bb77a055",
   "metadata": {},
   "outputs": [],
   "source": [
    "from selenium import webdriver\n",
    "from selenium.webdriver.common.keys import Keys\n",
    "import pandas as pd\n",
    "from selenium.webdriver.common.by import By"
   ]
  },
  {
   "cell_type": "markdown",
   "id": "207d601c",
   "metadata": {},
   "source": [
    "### Chrome webDriver"
   ]
  },
  {
   "cell_type": "code",
   "execution_count": 3,
   "id": "50f5b68d",
   "metadata": {},
   "outputs": [
    {
     "name": "stderr",
     "output_type": "stream",
     "text": [
      "C:\\Users\\Amal\\AppData\\Local\\Temp\\ipykernel_14740\\1393778512.py:2: DeprecationWarning: executable_path has been deprecated, please pass in a Service object\n",
      "  driver = webdriver.Chrome('C:/Users/Amal/Desktop/chromedriver')\n"
     ]
    }
   ],
   "source": [
    "#Chrome webDriver\n",
    "driver = webdriver.Chrome('C:/Users/Amal/Desktop/chromedriver')"
   ]
  },
  {
   "cell_type": "markdown",
   "id": "f08a8580",
   "metadata": {},
   "source": [
    "### Scraping Function"
   ]
  },
  {
   "cell_type": "code",
   "execution_count": 4,
   "id": "a82d906e",
   "metadata": {},
   "outputs": [],
   "source": [
    "import numpy as np\n",
    "def scrapingByRegion(url):\n",
    "    driver.get(url)\n",
    "    #years\n",
    "    years = driver.find_elements(by=By.XPATH, value='//table[@class=\"table table-striped table-bordered table-hover table-condensed table-list\"]/tbody/tr/td[1]')\n",
    "    years_list = []\n",
    "    for y in range(len(years)):\n",
    "        years_list.append(years[y].text)\n",
    "    #print(years_list)\n",
    "    \n",
    "    #population\n",
    "    population = driver.find_elements(by=By.XPATH, value='//table[@class=\"table table-striped table-bordered table-hover table-condensed table-list\"]/tbody/tr/td[2]')\n",
    "    population_list = []\n",
    "    for p in range(len(population)):\n",
    "        population_list.append(population[p].text)\n",
    "    #print(population_list)\n",
    "    \n",
    "    #Fertility Rate\n",
    "    fertilityRate = driver.find_elements(by=By.XPATH, value='//table[@class=\"table table-striped table-bordered table-hover table-condensed table-list\"]/tbody/tr/td[7]')\n",
    "    fertilityRate_list = []\n",
    "    for f in range(len(fertilityRate)):\n",
    "        fertilityRate_list.append(fertilityRate[f].text)\n",
    "    #print(fertilityRate_list)\n",
    "    \n",
    "    #Urban Population\n",
    "    urbanPopulation = driver.find_elements(by=By.XPATH, value='//table[@class=\"table table-striped table-bordered table-hover table-condensed table-list\"]/tbody/tr/td[10]')\n",
    "    urbanPopulation_list = []\n",
    "    for up in range(len(urbanPopulation)):\n",
    "        urbanPopulation_list.append(urbanPopulation[up].text)\n",
    "    #print(urbanPopulation_list)\n",
    "    \n",
    "    #Create Dataframe\n",
    "    population_df = pd.DataFrame(list(zip(years_list, population_list, fertilityRate_list, urbanPopulation_list)),\n",
    "               columns =['Year', 'Population','Fertility Rate','Urban Population'])\n",
    "    return population_df\n"
   ]
  },
  {
   "cell_type": "markdown",
   "id": "c00c4847",
   "metadata": {},
   "source": [
    "### Call the scraping function and create a dataframe for each region"
   ]
  },
  {
   "cell_type": "code",
   "execution_count": 5,
   "id": "e1787fff",
   "metadata": {},
   "outputs": [
    {
     "data": {
      "text/html": [
       "<div>\n",
       "<style scoped>\n",
       "    .dataframe tbody tr th:only-of-type {\n",
       "        vertical-align: middle;\n",
       "    }\n",
       "\n",
       "    .dataframe tbody tr th {\n",
       "        vertical-align: top;\n",
       "    }\n",
       "\n",
       "    .dataframe thead th {\n",
       "        text-align: right;\n",
       "    }\n",
       "</style>\n",
       "<table border=\"1\" class=\"dataframe\">\n",
       "  <thead>\n",
       "    <tr style=\"text-align: right;\">\n",
       "      <th></th>\n",
       "      <th>Year</th>\n",
       "      <th>Population</th>\n",
       "      <th>Fertility Rate</th>\n",
       "      <th>Urban Population</th>\n",
       "    </tr>\n",
       "  </thead>\n",
       "  <tbody>\n",
       "    <tr>\n",
       "      <th>0</th>\n",
       "      <td>2020</td>\n",
       "      <td>1,340,598,147</td>\n",
       "      <td>4.44</td>\n",
       "      <td>587,737,793</td>\n",
       "    </tr>\n",
       "    <tr>\n",
       "      <th>1</th>\n",
       "      <td>2019</td>\n",
       "      <td>1,308,064,195</td>\n",
       "      <td>4.67</td>\n",
       "      <td>567,387,619</td>\n",
       "    </tr>\n",
       "    <tr>\n",
       "      <th>2</th>\n",
       "      <td>2018</td>\n",
       "      <td>1,275,920,972</td>\n",
       "      <td>4.67</td>\n",
       "      <td>547,602,182</td>\n",
       "    </tr>\n",
       "    <tr>\n",
       "      <th>3</th>\n",
       "      <td>2017</td>\n",
       "      <td>1,244,222,267</td>\n",
       "      <td>4.67</td>\n",
       "      <td>528,371,323</td>\n",
       "    </tr>\n",
       "    <tr>\n",
       "      <th>4</th>\n",
       "      <td>2016</td>\n",
       "      <td>1,213,040,521</td>\n",
       "      <td>4.67</td>\n",
       "      <td>509,683,886</td>\n",
       "    </tr>\n",
       "  </tbody>\n",
       "</table>\n",
       "</div>"
      ],
      "text/plain": [
       "   Year     Population Fertility Rate Urban Population\n",
       "0  2020  1,340,598,147           4.44      587,737,793\n",
       "1  2019  1,308,064,195           4.67      567,387,619\n",
       "2  2018  1,275,920,972           4.67      547,602,182\n",
       "3  2017  1,244,222,267           4.67      528,371,323\n",
       "4  2016  1,213,040,521           4.67      509,683,886"
      ]
     },
     "execution_count": 5,
     "metadata": {},
     "output_type": "execute_result"
    }
   ],
   "source": [
    "african_df = scrapingByRegion('https://www.worldometers.info/world-population/africa-population/')\n",
    "african_df.head()"
   ]
  },
  {
   "cell_type": "code",
   "execution_count": 6,
   "id": "ee6ca57b",
   "metadata": {},
   "outputs": [
    {
     "data": {
      "text/html": [
       "<div>\n",
       "<style scoped>\n",
       "    .dataframe tbody tr th:only-of-type {\n",
       "        vertical-align: middle;\n",
       "    }\n",
       "\n",
       "    .dataframe tbody tr th {\n",
       "        vertical-align: top;\n",
       "    }\n",
       "\n",
       "    .dataframe thead th {\n",
       "        text-align: right;\n",
       "    }\n",
       "</style>\n",
       "<table border=\"1\" class=\"dataframe\">\n",
       "  <thead>\n",
       "    <tr style=\"text-align: right;\">\n",
       "      <th></th>\n",
       "      <th>Year</th>\n",
       "      <th>Population</th>\n",
       "      <th>Fertility Rate</th>\n",
       "      <th>Urban Population</th>\n",
       "    </tr>\n",
       "  </thead>\n",
       "  <tbody>\n",
       "    <tr>\n",
       "      <th>0</th>\n",
       "      <td>2020</td>\n",
       "      <td>4,641,054,775</td>\n",
       "      <td>2.15</td>\n",
       "      <td>2,361,464,416</td>\n",
       "    </tr>\n",
       "    <tr>\n",
       "      <th>1</th>\n",
       "      <td>2019</td>\n",
       "      <td>4,601,371,198</td>\n",
       "      <td>2.20</td>\n",
       "      <td>2,314,051,549</td>\n",
       "    </tr>\n",
       "    <tr>\n",
       "      <th>2</th>\n",
       "      <td>2018</td>\n",
       "      <td>4,560,667,108</td>\n",
       "      <td>2.20</td>\n",
       "      <td>2,266,130,580</td>\n",
       "    </tr>\n",
       "    <tr>\n",
       "      <th>3</th>\n",
       "      <td>2017</td>\n",
       "      <td>4,519,040,027</td>\n",
       "      <td>2.20</td>\n",
       "      <td>2,217,723,679</td>\n",
       "    </tr>\n",
       "    <tr>\n",
       "      <th>4</th>\n",
       "      <td>2016</td>\n",
       "      <td>4,476,607,853</td>\n",
       "      <td>2.20</td>\n",
       "      <td>2,168,879,760</td>\n",
       "    </tr>\n",
       "  </tbody>\n",
       "</table>\n",
       "</div>"
      ],
      "text/plain": [
       "   Year     Population Fertility Rate Urban Population\n",
       "0  2020  4,641,054,775           2.15    2,361,464,416\n",
       "1  2019  4,601,371,198           2.20    2,314,051,549\n",
       "2  2018  4,560,667,108           2.20    2,266,130,580\n",
       "3  2017  4,519,040,027           2.20    2,217,723,679\n",
       "4  2016  4,476,607,853           2.20    2,168,879,760"
      ]
     },
     "execution_count": 6,
     "metadata": {},
     "output_type": "execute_result"
    }
   ],
   "source": [
    "asian_df = scrapingByRegion('https://www.worldometers.info/world-population/asia-population/')\n",
    "asian_df.head()"
   ]
  },
  {
   "cell_type": "code",
   "execution_count": 7,
   "id": "53d105e6",
   "metadata": {},
   "outputs": [
    {
     "data": {
      "text/html": [
       "<div>\n",
       "<style scoped>\n",
       "    .dataframe tbody tr th:only-of-type {\n",
       "        vertical-align: middle;\n",
       "    }\n",
       "\n",
       "    .dataframe tbody tr th {\n",
       "        vertical-align: top;\n",
       "    }\n",
       "\n",
       "    .dataframe thead th {\n",
       "        text-align: right;\n",
       "    }\n",
       "</style>\n",
       "<table border=\"1\" class=\"dataframe\">\n",
       "  <thead>\n",
       "    <tr style=\"text-align: right;\">\n",
       "      <th></th>\n",
       "      <th>Year</th>\n",
       "      <th>Population</th>\n",
       "      <th>Fertility Rate</th>\n",
       "      <th>Urban Population</th>\n",
       "    </tr>\n",
       "  </thead>\n",
       "  <tbody>\n",
       "    <tr>\n",
       "      <th>0</th>\n",
       "      <td>2020</td>\n",
       "      <td>747,636,026</td>\n",
       "      <td>1.61</td>\n",
       "      <td>556,684,039</td>\n",
       "    </tr>\n",
       "    <tr>\n",
       "      <th>1</th>\n",
       "      <td>2019</td>\n",
       "      <td>747,182,751</td>\n",
       "      <td>1.60</td>\n",
       "      <td>554,832,332</td>\n",
       "    </tr>\n",
       "    <tr>\n",
       "      <th>2</th>\n",
       "      <td>2018</td>\n",
       "      <td>746,419,440</td>\n",
       "      <td>1.60</td>\n",
       "      <td>552,911,225</td>\n",
       "    </tr>\n",
       "    <tr>\n",
       "      <th>3</th>\n",
       "      <td>2017</td>\n",
       "      <td>745,414,735</td>\n",
       "      <td>1.60</td>\n",
       "      <td>550,959,276</td>\n",
       "    </tr>\n",
       "    <tr>\n",
       "      <th>4</th>\n",
       "      <td>2016</td>\n",
       "      <td>744,268,827</td>\n",
       "      <td>1.60</td>\n",
       "      <td>549,030,165</td>\n",
       "    </tr>\n",
       "  </tbody>\n",
       "</table>\n",
       "</div>"
      ],
      "text/plain": [
       "   Year   Population Fertility Rate Urban Population\n",
       "0  2020  747,636,026           1.61      556,684,039\n",
       "1  2019  747,182,751           1.60      554,832,332\n",
       "2  2018  746,419,440           1.60      552,911,225\n",
       "3  2017  745,414,735           1.60      550,959,276\n",
       "4  2016  744,268,827           1.60      549,030,165"
      ]
     },
     "execution_count": 7,
     "metadata": {},
     "output_type": "execute_result"
    }
   ],
   "source": [
    "european_df = scrapingByRegion('https://www.worldometers.info/world-population/europe-population/')\n",
    "european_df.head()"
   ]
  },
  {
   "cell_type": "code",
   "execution_count": 8,
   "id": "73b13af0",
   "metadata": {},
   "outputs": [
    {
     "data": {
      "text/html": [
       "<div>\n",
       "<style scoped>\n",
       "    .dataframe tbody tr th:only-of-type {\n",
       "        vertical-align: middle;\n",
       "    }\n",
       "\n",
       "    .dataframe tbody tr th {\n",
       "        vertical-align: top;\n",
       "    }\n",
       "\n",
       "    .dataframe thead th {\n",
       "        text-align: right;\n",
       "    }\n",
       "</style>\n",
       "<table border=\"1\" class=\"dataframe\">\n",
       "  <thead>\n",
       "    <tr style=\"text-align: right;\">\n",
       "      <th></th>\n",
       "      <th>Year</th>\n",
       "      <th>Population</th>\n",
       "      <th>Fertility Rate</th>\n",
       "      <th>Urban Population</th>\n",
       "    </tr>\n",
       "  </thead>\n",
       "  <tbody>\n",
       "    <tr>\n",
       "      <th>0</th>\n",
       "      <td>2020</td>\n",
       "      <td>653,962,331</td>\n",
       "      <td>2.04</td>\n",
       "      <td>539,427,335</td>\n",
       "    </tr>\n",
       "    <tr>\n",
       "      <th>1</th>\n",
       "      <td>2019</td>\n",
       "      <td>648,120,957</td>\n",
       "      <td>2.12</td>\n",
       "      <td>532,783,467</td>\n",
       "    </tr>\n",
       "    <tr>\n",
       "      <th>2</th>\n",
       "      <td>2018</td>\n",
       "      <td>642,216,682</td>\n",
       "      <td>2.12</td>\n",
       "      <td>526,057,192</td>\n",
       "    </tr>\n",
       "    <tr>\n",
       "      <th>3</th>\n",
       "      <td>2017</td>\n",
       "      <td>636,233,123</td>\n",
       "      <td>2.12</td>\n",
       "      <td>519,249,889</td>\n",
       "    </tr>\n",
       "    <tr>\n",
       "      <th>4</th>\n",
       "      <td>2016</td>\n",
       "      <td>630,144,555</td>\n",
       "      <td>2.12</td>\n",
       "      <td>512,362,472</td>\n",
       "    </tr>\n",
       "  </tbody>\n",
       "</table>\n",
       "</div>"
      ],
      "text/plain": [
       "   Year   Population Fertility Rate Urban Population\n",
       "0  2020  653,962,331           2.04      539,427,335\n",
       "1  2019  648,120,957           2.12      532,783,467\n",
       "2  2018  642,216,682           2.12      526,057,192\n",
       "3  2017  636,233,123           2.12      519,249,889\n",
       "4  2016  630,144,555           2.12      512,362,472"
      ]
     },
     "execution_count": 8,
     "metadata": {},
     "output_type": "execute_result"
    }
   ],
   "source": [
    "southAmerican_df = scrapingByRegion('https://www.worldometers.info/world-population/latin-america-and-the-caribbean-population/')\n",
    "southAmerican_df.head()"
   ]
  },
  {
   "cell_type": "code",
   "execution_count": 9,
   "id": "455af52b",
   "metadata": {},
   "outputs": [
    {
     "data": {
      "text/html": [
       "<div>\n",
       "<style scoped>\n",
       "    .dataframe tbody tr th:only-of-type {\n",
       "        vertical-align: middle;\n",
       "    }\n",
       "\n",
       "    .dataframe tbody tr th {\n",
       "        vertical-align: top;\n",
       "    }\n",
       "\n",
       "    .dataframe thead th {\n",
       "        text-align: right;\n",
       "    }\n",
       "</style>\n",
       "<table border=\"1\" class=\"dataframe\">\n",
       "  <thead>\n",
       "    <tr style=\"text-align: right;\">\n",
       "      <th></th>\n",
       "      <th>Year</th>\n",
       "      <th>Population</th>\n",
       "      <th>Fertility Rate</th>\n",
       "      <th>Urban Population</th>\n",
       "    </tr>\n",
       "  </thead>\n",
       "  <tbody>\n",
       "    <tr>\n",
       "      <th>0</th>\n",
       "      <td>2020</td>\n",
       "      <td>368,869,647</td>\n",
       "      <td>1.83</td>\n",
       "      <td>304,761,178</td>\n",
       "    </tr>\n",
       "    <tr>\n",
       "      <th>1</th>\n",
       "      <td>2019</td>\n",
       "      <td>366,600,964</td>\n",
       "      <td>1.83</td>\n",
       "      <td>301,858,117</td>\n",
       "    </tr>\n",
       "    <tr>\n",
       "      <th>2</th>\n",
       "      <td>2018</td>\n",
       "      <td>364,295,996</td>\n",
       "      <td>1.83</td>\n",
       "      <td>298,987,110</td>\n",
       "    </tr>\n",
       "    <tr>\n",
       "      <th>3</th>\n",
       "      <td>2017</td>\n",
       "      <td>361,942,268</td>\n",
       "      <td>1.83</td>\n",
       "      <td>296,153,390</td>\n",
       "    </tr>\n",
       "    <tr>\n",
       "      <th>4</th>\n",
       "      <td>2016</td>\n",
       "      <td>359,524,647</td>\n",
       "      <td>1.83</td>\n",
       "      <td>293,362,886</td>\n",
       "    </tr>\n",
       "  </tbody>\n",
       "</table>\n",
       "</div>"
      ],
      "text/plain": [
       "   Year   Population Fertility Rate Urban Population\n",
       "0  2020  368,869,647           1.83      304,761,178\n",
       "1  2019  366,600,964           1.83      301,858,117\n",
       "2  2018  364,295,996           1.83      298,987,110\n",
       "3  2017  361,942,268           1.83      296,153,390\n",
       "4  2016  359,524,647           1.83      293,362,886"
      ]
     },
     "execution_count": 9,
     "metadata": {},
     "output_type": "execute_result"
    }
   ],
   "source": [
    "northAmerican_df = scrapingByRegion('https://www.worldometers.info/world-population/northern-america-population/')\n",
    "northAmerican_df.head()"
   ]
  },
  {
   "cell_type": "code",
   "execution_count": 10,
   "id": "0e792768",
   "metadata": {},
   "outputs": [
    {
     "data": {
      "text/html": [
       "<div>\n",
       "<style scoped>\n",
       "    .dataframe tbody tr th:only-of-type {\n",
       "        vertical-align: middle;\n",
       "    }\n",
       "\n",
       "    .dataframe tbody tr th {\n",
       "        vertical-align: top;\n",
       "    }\n",
       "\n",
       "    .dataframe thead th {\n",
       "        text-align: right;\n",
       "    }\n",
       "</style>\n",
       "<table border=\"1\" class=\"dataframe\">\n",
       "  <thead>\n",
       "    <tr style=\"text-align: right;\">\n",
       "      <th></th>\n",
       "      <th>Year</th>\n",
       "      <th>Population</th>\n",
       "      <th>Fertility Rate</th>\n",
       "      <th>Urban Population</th>\n",
       "    </tr>\n",
       "  </thead>\n",
       "  <tbody>\n",
       "    <tr>\n",
       "      <th>0</th>\n",
       "      <td>2020</td>\n",
       "      <td>42,677,813</td>\n",
       "      <td>2.36</td>\n",
       "      <td>28,919,183</td>\n",
       "    </tr>\n",
       "    <tr>\n",
       "      <th>1</th>\n",
       "      <td>2019</td>\n",
       "      <td>42,128,035</td>\n",
       "      <td>2.42</td>\n",
       "      <td>28,525,534</td>\n",
       "    </tr>\n",
       "    <tr>\n",
       "      <th>2</th>\n",
       "      <td>2018</td>\n",
       "      <td>41,570,842</td>\n",
       "      <td>2.42</td>\n",
       "      <td>28,129,029</td>\n",
       "    </tr>\n",
       "    <tr>\n",
       "      <th>3</th>\n",
       "      <td>2017</td>\n",
       "      <td>41,006,505</td>\n",
       "      <td>2.42</td>\n",
       "      <td>27,731,037</td>\n",
       "    </tr>\n",
       "    <tr>\n",
       "      <th>4</th>\n",
       "      <td>2016</td>\n",
       "      <td>40,435,646</td>\n",
       "      <td>2.42</td>\n",
       "      <td>27,333,514</td>\n",
       "    </tr>\n",
       "  </tbody>\n",
       "</table>\n",
       "</div>"
      ],
      "text/plain": [
       "   Year  Population Fertility Rate Urban Population\n",
       "0  2020  42,677,813           2.36       28,919,183\n",
       "1  2019  42,128,035           2.42       28,525,534\n",
       "2  2018  41,570,842           2.42       28,129,029\n",
       "3  2017  41,006,505           2.42       27,731,037\n",
       "4  2016  40,435,646           2.42       27,333,514"
      ]
     },
     "execution_count": 10,
     "metadata": {},
     "output_type": "execute_result"
    }
   ],
   "source": [
    "oceanian_df = scrapingByRegion('https://www.worldometers.info/world-population/oceania-population/')\n",
    "oceanian_df.head()"
   ]
  },
  {
   "cell_type": "markdown",
   "id": "f84b343d",
   "metadata": {},
   "source": [
    "\n",
    "# II. Transform\n",
    "\n",
    " Our analysis is pretty simple (just a visualization), so we don't have too much tasks in this step.\n",
    " \n",
    "     1. Create new column: rural population \n",
    "     \n",
    "     2. Split each region's df into two dfs \n",
    "         - the first df is the population of each region (from 1955 to 2020)\n",
    "         - the second df is the population forecast (from 2020 to 2050)"
   ]
  },
  {
   "cell_type": "markdown",
   "id": "9589a1a8",
   "metadata": {},
   "source": [
    "### 1. Create new column: rural population "
   ]
  },
  {
   "cell_type": "code",
   "execution_count": 11,
   "id": "be5031bf",
   "metadata": {
    "scrolled": true
   },
   "outputs": [],
   "source": [
    "def createRPColumn(df):\n",
    "    df['Rural Population'] = df['Population'].str.replace(',','').astype('Int64', errors='ignore') - df['Urban Population'].str.replace(',','').astype('Int64', errors='ignore')\n",
    "    return df"
   ]
  },
  {
   "cell_type": "code",
   "execution_count": 12,
   "id": "1c673bdb",
   "metadata": {},
   "outputs": [],
   "source": [
    "african_df = createRPColumn(african_df)\n",
    "asian_df = createRPColumn(asian_df)\n",
    "european_df = createRPColumn(european_df)\n",
    "southAmerican_df = createRPColumn(southAmerican_df)\n",
    "northAmerican_df = createRPColumn(northAmerican_df)\n",
    "oceanian_df = createRPColumn(oceanian_df)"
   ]
  },
  {
   "cell_type": "code",
   "execution_count": 13,
   "id": "0d13eafd",
   "metadata": {},
   "outputs": [
    {
     "data": {
      "text/html": [
       "<div>\n",
       "<style scoped>\n",
       "    .dataframe tbody tr th:only-of-type {\n",
       "        vertical-align: middle;\n",
       "    }\n",
       "\n",
       "    .dataframe tbody tr th {\n",
       "        vertical-align: top;\n",
       "    }\n",
       "\n",
       "    .dataframe thead th {\n",
       "        text-align: right;\n",
       "    }\n",
       "</style>\n",
       "<table border=\"1\" class=\"dataframe\">\n",
       "  <thead>\n",
       "    <tr style=\"text-align: right;\">\n",
       "      <th></th>\n",
       "      <th>Year</th>\n",
       "      <th>Population</th>\n",
       "      <th>Fertility Rate</th>\n",
       "      <th>Urban Population</th>\n",
       "      <th>Rural Population</th>\n",
       "    </tr>\n",
       "  </thead>\n",
       "  <tbody>\n",
       "    <tr>\n",
       "      <th>0</th>\n",
       "      <td>2020</td>\n",
       "      <td>1,340,598,147</td>\n",
       "      <td>4.44</td>\n",
       "      <td>587,737,793</td>\n",
       "      <td>752860354</td>\n",
       "    </tr>\n",
       "    <tr>\n",
       "      <th>1</th>\n",
       "      <td>2019</td>\n",
       "      <td>1,308,064,195</td>\n",
       "      <td>4.67</td>\n",
       "      <td>567,387,619</td>\n",
       "      <td>740676576</td>\n",
       "    </tr>\n",
       "    <tr>\n",
       "      <th>2</th>\n",
       "      <td>2018</td>\n",
       "      <td>1,275,920,972</td>\n",
       "      <td>4.67</td>\n",
       "      <td>547,602,182</td>\n",
       "      <td>728318790</td>\n",
       "    </tr>\n",
       "    <tr>\n",
       "      <th>3</th>\n",
       "      <td>2017</td>\n",
       "      <td>1,244,222,267</td>\n",
       "      <td>4.67</td>\n",
       "      <td>528,371,323</td>\n",
       "      <td>715850944</td>\n",
       "    </tr>\n",
       "    <tr>\n",
       "      <th>4</th>\n",
       "      <td>2016</td>\n",
       "      <td>1,213,040,521</td>\n",
       "      <td>4.67</td>\n",
       "      <td>509,683,886</td>\n",
       "      <td>703356635</td>\n",
       "    </tr>\n",
       "  </tbody>\n",
       "</table>\n",
       "</div>"
      ],
      "text/plain": [
       "   Year     Population Fertility Rate Urban Population  Rural Population\n",
       "0  2020  1,340,598,147           4.44      587,737,793         752860354\n",
       "1  2019  1,308,064,195           4.67      567,387,619         740676576\n",
       "2  2018  1,275,920,972           4.67      547,602,182         728318790\n",
       "3  2017  1,244,222,267           4.67      528,371,323         715850944\n",
       "4  2016  1,213,040,521           4.67      509,683,886         703356635"
      ]
     },
     "execution_count": 13,
     "metadata": {},
     "output_type": "execute_result"
    }
   ],
   "source": [
    "african_df.head()"
   ]
  },
  {
   "cell_type": "markdown",
   "id": "8ade207f",
   "metadata": {},
   "source": [
    "### 2. Split each region's df into two dfs "
   ]
  },
  {
   "cell_type": "code",
   "execution_count": 13,
   "id": "33baa6a9",
   "metadata": {},
   "outputs": [],
   "source": [
    "def population(df):\n",
    "    population_df = df.iloc[:18,:]\n",
    "    return population_df\n",
    "\n",
    "def populationForcast(df):   \n",
    "    population_forecast_df = df.iloc[18:,:]\n",
    "    return population_forecast_df\n",
    "    "
   ]
  },
  {
   "cell_type": "markdown",
   "id": "d001c2b3",
   "metadata": {},
   "source": [
    "#### Call the function to create 2 dfs "
   ]
  },
  {
   "cell_type": "code",
   "execution_count": 14,
   "id": "8e11ae94",
   "metadata": {},
   "outputs": [
    {
     "data": {
      "text/html": [
       "<div>\n",
       "<style scoped>\n",
       "    .dataframe tbody tr th:only-of-type {\n",
       "        vertical-align: middle;\n",
       "    }\n",
       "\n",
       "    .dataframe tbody tr th {\n",
       "        vertical-align: top;\n",
       "    }\n",
       "\n",
       "    .dataframe thead th {\n",
       "        text-align: right;\n",
       "    }\n",
       "</style>\n",
       "<table border=\"1\" class=\"dataframe\">\n",
       "  <thead>\n",
       "    <tr style=\"text-align: right;\">\n",
       "      <th></th>\n",
       "      <th>Year</th>\n",
       "      <th>Population</th>\n",
       "      <th>Fertility Rate</th>\n",
       "      <th>Urban Population</th>\n",
       "      <th>Rural Population</th>\n",
       "    </tr>\n",
       "  </thead>\n",
       "  <tbody>\n",
       "    <tr>\n",
       "      <th>0</th>\n",
       "      <td>2020</td>\n",
       "      <td>1,340,598,147</td>\n",
       "      <td>4.44</td>\n",
       "      <td>587,737,793</td>\n",
       "      <td>752860354</td>\n",
       "    </tr>\n",
       "    <tr>\n",
       "      <th>1</th>\n",
       "      <td>2019</td>\n",
       "      <td>1,308,064,195</td>\n",
       "      <td>4.67</td>\n",
       "      <td>567,387,619</td>\n",
       "      <td>740676576</td>\n",
       "    </tr>\n",
       "    <tr>\n",
       "      <th>2</th>\n",
       "      <td>2018</td>\n",
       "      <td>1,275,920,972</td>\n",
       "      <td>4.67</td>\n",
       "      <td>547,602,182</td>\n",
       "      <td>728318790</td>\n",
       "    </tr>\n",
       "    <tr>\n",
       "      <th>3</th>\n",
       "      <td>2017</td>\n",
       "      <td>1,244,222,267</td>\n",
       "      <td>4.67</td>\n",
       "      <td>528,371,323</td>\n",
       "      <td>715850944</td>\n",
       "    </tr>\n",
       "    <tr>\n",
       "      <th>4</th>\n",
       "      <td>2016</td>\n",
       "      <td>1,213,040,521</td>\n",
       "      <td>4.67</td>\n",
       "      <td>509,683,886</td>\n",
       "      <td>703356635</td>\n",
       "    </tr>\n",
       "    <tr>\n",
       "      <th>5</th>\n",
       "      <td>2015</td>\n",
       "      <td>1,182,438,784</td>\n",
       "      <td>4.73</td>\n",
       "      <td>491,531,092</td>\n",
       "      <td>690907692</td>\n",
       "    </tr>\n",
       "    <tr>\n",
       "      <th>6</th>\n",
       "      <td>2010</td>\n",
       "      <td>1,039,304,033</td>\n",
       "      <td>4.90</td>\n",
       "      <td>408,587,045</td>\n",
       "      <td>630716988</td>\n",
       "    </tr>\n",
       "    <tr>\n",
       "      <th>7</th>\n",
       "      <td>2005</td>\n",
       "      <td>916,154,288</td>\n",
       "      <td>5.08</td>\n",
       "      <td>341,033,592</td>\n",
       "      <td>575120696</td>\n",
       "    </tr>\n",
       "    <tr>\n",
       "      <th>8</th>\n",
       "      <td>2000</td>\n",
       "      <td>810,984,226</td>\n",
       "      <td>5.35</td>\n",
       "      <td>285,997,612</td>\n",
       "      <td>524986614</td>\n",
       "    </tr>\n",
       "    <tr>\n",
       "      <th>9</th>\n",
       "      <td>1995</td>\n",
       "      <td>717,270,078</td>\n",
       "      <td>5.72</td>\n",
       "      <td>241,824,184</td>\n",
       "      <td>475445894</td>\n",
       "    </tr>\n",
       "    <tr>\n",
       "      <th>10</th>\n",
       "      <td>1990</td>\n",
       "      <td>630,349,639</td>\n",
       "      <td>6.19</td>\n",
       "      <td>200,111,296</td>\n",
       "      <td>430238343</td>\n",
       "    </tr>\n",
       "    <tr>\n",
       "      <th>11</th>\n",
       "      <td>1985</td>\n",
       "      <td>548,626,148</td>\n",
       "      <td>6.50</td>\n",
       "      <td>160,721,947</td>\n",
       "      <td>387904201</td>\n",
       "    </tr>\n",
       "    <tr>\n",
       "      <th>12</th>\n",
       "      <td>1980</td>\n",
       "      <td>476,386,273</td>\n",
       "      <td>6.64</td>\n",
       "      <td>128,615,954</td>\n",
       "      <td>347770319</td>\n",
       "    </tr>\n",
       "    <tr>\n",
       "      <th>13</th>\n",
       "      <td>1975</td>\n",
       "      <td>414,674,688</td>\n",
       "      <td>6.70</td>\n",
       "      <td>103,198,989</td>\n",
       "      <td>311475699</td>\n",
       "    </tr>\n",
       "    <tr>\n",
       "      <th>14</th>\n",
       "      <td>1970</td>\n",
       "      <td>363,447,518</td>\n",
       "      <td>6.71</td>\n",
       "      <td>82,637,370</td>\n",
       "      <td>280810148</td>\n",
       "    </tr>\n",
       "    <tr>\n",
       "      <th>15</th>\n",
       "      <td>1965</td>\n",
       "      <td>320,147,257</td>\n",
       "      <td>6.70</td>\n",
       "      <td>41,419,217</td>\n",
       "      <td>278728040</td>\n",
       "    </tr>\n",
       "    <tr>\n",
       "      <th>16</th>\n",
       "      <td>1960</td>\n",
       "      <td>283,361,209</td>\n",
       "      <td>6.62</td>\n",
       "      <td>53,008,425</td>\n",
       "      <td>230352784</td>\n",
       "    </tr>\n",
       "    <tr>\n",
       "      <th>17</th>\n",
       "      <td>1955</td>\n",
       "      <td>252,748,903</td>\n",
       "      <td>6.57</td>\n",
       "      <td>41,419,217</td>\n",
       "      <td>211329686</td>\n",
       "    </tr>\n",
       "  </tbody>\n",
       "</table>\n",
       "</div>"
      ],
      "text/plain": [
       "    Year     Population Fertility Rate Urban Population  Rural Population\n",
       "0   2020  1,340,598,147           4.44      587,737,793         752860354\n",
       "1   2019  1,308,064,195           4.67      567,387,619         740676576\n",
       "2   2018  1,275,920,972           4.67      547,602,182         728318790\n",
       "3   2017  1,244,222,267           4.67      528,371,323         715850944\n",
       "4   2016  1,213,040,521           4.67      509,683,886         703356635\n",
       "5   2015  1,182,438,784           4.73      491,531,092         690907692\n",
       "6   2010  1,039,304,033           4.90      408,587,045         630716988\n",
       "7   2005    916,154,288           5.08      341,033,592         575120696\n",
       "8   2000    810,984,226           5.35      285,997,612         524986614\n",
       "9   1995    717,270,078           5.72      241,824,184         475445894\n",
       "10  1990    630,349,639           6.19      200,111,296         430238343\n",
       "11  1985    548,626,148           6.50      160,721,947         387904201\n",
       "12  1980    476,386,273           6.64      128,615,954         347770319\n",
       "13  1975    414,674,688           6.70      103,198,989         311475699\n",
       "14  1970    363,447,518           6.71       82,637,370         280810148\n",
       "15  1965    320,147,257           6.70       41,419,217         278728040\n",
       "16  1960    283,361,209           6.62       53,008,425         230352784\n",
       "17  1955    252,748,903           6.57       41,419,217         211329686"
      ]
     },
     "execution_count": 14,
     "metadata": {},
     "output_type": "execute_result"
    }
   ],
   "source": [
    "african_population_df = population(african_df)\n",
    "african_population_df"
   ]
  },
  {
   "cell_type": "code",
   "execution_count": 15,
   "id": "7050eb2c",
   "metadata": {},
   "outputs": [
    {
     "data": {
      "text/html": [
       "<div>\n",
       "<style scoped>\n",
       "    .dataframe tbody tr th:only-of-type {\n",
       "        vertical-align: middle;\n",
       "    }\n",
       "\n",
       "    .dataframe tbody tr th {\n",
       "        vertical-align: top;\n",
       "    }\n",
       "\n",
       "    .dataframe thead th {\n",
       "        text-align: right;\n",
       "    }\n",
       "</style>\n",
       "<table border=\"1\" class=\"dataframe\">\n",
       "  <thead>\n",
       "    <tr style=\"text-align: right;\">\n",
       "      <th></th>\n",
       "      <th>Year</th>\n",
       "      <th>Population</th>\n",
       "      <th>Fertility Rate</th>\n",
       "      <th>Urban Population</th>\n",
       "      <th>Rural Population</th>\n",
       "    </tr>\n",
       "  </thead>\n",
       "  <tbody>\n",
       "    <tr>\n",
       "      <th>18</th>\n",
       "      <td>2020</td>\n",
       "      <td>1,340,598,147</td>\n",
       "      <td>4.44</td>\n",
       "      <td>587,737,793</td>\n",
       "      <td>752860354</td>\n",
       "    </tr>\n",
       "    <tr>\n",
       "      <th>19</th>\n",
       "      <td>2025</td>\n",
       "      <td>1,508,935,218</td>\n",
       "      <td>4.48</td>\n",
       "      <td>698,148,943</td>\n",
       "      <td>810786275</td>\n",
       "    </tr>\n",
       "    <tr>\n",
       "      <th>20</th>\n",
       "      <td>2030</td>\n",
       "      <td>1,688,321,099</td>\n",
       "      <td>4.53</td>\n",
       "      <td>824,013,801</td>\n",
       "      <td>864307298</td>\n",
       "    </tr>\n",
       "    <tr>\n",
       "      <th>21</th>\n",
       "      <td>2035</td>\n",
       "      <td>1,878,193,685</td>\n",
       "      <td>4.57</td>\n",
       "      <td>966,329,885</td>\n",
       "      <td>911863800</td>\n",
       "    </tr>\n",
       "    <tr>\n",
       "      <th>22</th>\n",
       "      <td>2040</td>\n",
       "      <td>2,076,749,529</td>\n",
       "      <td>4.61</td>\n",
       "      <td>1,125,161,515</td>\n",
       "      <td>951588014</td>\n",
       "    </tr>\n",
       "    <tr>\n",
       "      <th>23</th>\n",
       "      <td>2045</td>\n",
       "      <td>2,281,452,464</td>\n",
       "      <td>4.65</td>\n",
       "      <td>1,299,953,249</td>\n",
       "      <td>981499215</td>\n",
       "    </tr>\n",
       "    <tr>\n",
       "      <th>24</th>\n",
       "      <td>2050</td>\n",
       "      <td>2,489,275,458</td>\n",
       "      <td>4.69</td>\n",
       "      <td>1,488,920,045</td>\n",
       "      <td>1000355413</td>\n",
       "    </tr>\n",
       "  </tbody>\n",
       "</table>\n",
       "</div>"
      ],
      "text/plain": [
       "    Year     Population Fertility Rate Urban Population  Rural Population\n",
       "18  2020  1,340,598,147           4.44      587,737,793         752860354\n",
       "19  2025  1,508,935,218           4.48      698,148,943         810786275\n",
       "20  2030  1,688,321,099           4.53      824,013,801         864307298\n",
       "21  2035  1,878,193,685           4.57      966,329,885         911863800\n",
       "22  2040  2,076,749,529           4.61    1,125,161,515         951588014\n",
       "23  2045  2,281,452,464           4.65    1,299,953,249         981499215\n",
       "24  2050  2,489,275,458           4.69    1,488,920,045        1000355413"
      ]
     },
     "execution_count": 15,
     "metadata": {},
     "output_type": "execute_result"
    }
   ],
   "source": [
    "african_population_forcast_df = populationForcast(african_df)\n",
    "african_population_forcast_df"
   ]
  },
  {
   "cell_type": "code",
   "execution_count": 18,
   "id": "c6ce8078",
   "metadata": {},
   "outputs": [],
   "source": [
    "asian_population_df = population(asian_df)\n",
    "asian_population_forcast_df = populationForcast(asian_df)"
   ]
  },
  {
   "cell_type": "code",
   "execution_count": 19,
   "id": "8f56f3d0",
   "metadata": {},
   "outputs": [],
   "source": [
    "european_population_df = population(european_df)\n",
    "european_population_forcast_df = populationForcast(european_df)"
   ]
  },
  {
   "cell_type": "code",
   "execution_count": 20,
   "id": "65c88ef7",
   "metadata": {},
   "outputs": [],
   "source": [
    "southAmerican_population_df = population(southAmerican_df)\n",
    "southAmerican_population_forcast_df = populationForcast(southAmerican_df)"
   ]
  },
  {
   "cell_type": "code",
   "execution_count": 21,
   "id": "8aecf69b",
   "metadata": {},
   "outputs": [],
   "source": [
    "northAmerican_population_df = population(northAmerican_df)\n",
    "northAmerican_population_forcast_df = populationForcast(northAmerican_df)"
   ]
  },
  {
   "cell_type": "code",
   "execution_count": 22,
   "id": "a893d3ea",
   "metadata": {},
   "outputs": [],
   "source": [
    "oceanian_population_df = population(oceanian_df)\n",
    "oceanian_population_forcast_df = populationForcast(oceanian_df)"
   ]
  },
  {
   "cell_type": "markdown",
   "id": "424c1fc2",
   "metadata": {},
   "source": [
    "\n",
    "# III. Load\n",
    "this is the final step of the ETL. In this step we will load our data to MongoDB"
   ]
  },
  {
   "cell_type": "code",
   "execution_count": 39,
   "id": "1bc71fc7",
   "metadata": {},
   "outputs": [],
   "source": [
    "import pandas as pd\n",
    "import pymongo\n",
    "import json\n",
    "\n",
    "# Making a connection with MongoClient\n",
    "client = pymongo.MongoClient(\"mongodb://localhost:27017\")\n",
    "\n",
    "#create db\n",
    "db = client[\"Population_db\"]"
   ]
  },
  {
   "cell_type": "code",
   "execution_count": 41,
   "id": "cd1fd552",
   "metadata": {},
   "outputs": [
    {
     "data": {
      "text/plain": [
       "<pymongo.results.InsertManyResult at 0x129ce0456c0>"
      ]
     },
     "execution_count": 41,
     "metadata": {},
     "output_type": "execute_result"
    }
   ],
   "source": [
    "#convert dataframe to dictionary\n",
    "data = african_population_df.to_dict(orient=\"records\")\n",
    "#save data to a mongodb collection \n",
    "db.africanPopulation.insert_many(data)"
   ]
  },
  {
   "cell_type": "code",
   "execution_count": 42,
   "id": "5ebc3b2f",
   "metadata": {},
   "outputs": [
    {
     "data": {
      "text/plain": [
       "<pymongo.results.InsertManyResult at 0x129cdffe860>"
      ]
     },
     "execution_count": 42,
     "metadata": {},
     "output_type": "execute_result"
    }
   ],
   "source": [
    "data = african_population_forcast_df.to_dict(orient=\"records\")\n",
    "db.africanPopulationForcast.insert_many(data)"
   ]
  },
  {
   "cell_type": "code",
   "execution_count": 43,
   "id": "cefad5d7",
   "metadata": {},
   "outputs": [
    {
     "data": {
      "text/plain": [
       "<pymongo.results.InsertManyResult at 0x129cebe1e40>"
      ]
     },
     "execution_count": 43,
     "metadata": {},
     "output_type": "execute_result"
    }
   ],
   "source": [
    "#convert dataframe to dictionary\n",
    "data = asian_population_df.to_dict(orient=\"records\")\n",
    "#save data to a mongodb collection \n",
    "db.asianPopulation.insert_many(data)\n",
    "\n",
    "data = asian_population_forcast_df.to_dict(orient=\"records\")\n",
    "db.asianPopulationForcast.insert_many(data)"
   ]
  },
  {
   "cell_type": "code",
   "execution_count": 44,
   "id": "2c31bbe4",
   "metadata": {},
   "outputs": [
    {
     "data": {
      "text/plain": [
       "<pymongo.results.InsertManyResult at 0x129cebe2bf0>"
      ]
     },
     "execution_count": 44,
     "metadata": {},
     "output_type": "execute_result"
    }
   ],
   "source": [
    "#convert dataframe to dictionary\n",
    "data = european_population_df.to_dict(orient=\"records\")\n",
    "#save data to a mongodb collection \n",
    "db.europeanPopulation.insert_many(data)\n",
    "\n",
    "data = european_population_forcast_df.to_dict(orient=\"records\")\n",
    "db.europeanPopulationForcast.insert_many(data)"
   ]
  },
  {
   "cell_type": "code",
   "execution_count": 45,
   "id": "673d889a",
   "metadata": {},
   "outputs": [
    {
     "data": {
      "text/plain": [
       "<pymongo.results.InsertManyResult at 0x129cebe2fe0>"
      ]
     },
     "execution_count": 45,
     "metadata": {},
     "output_type": "execute_result"
    }
   ],
   "source": [
    "#convert dataframe to dictionary\n",
    "data = southAmerican_population_df.to_dict(orient=\"records\")\n",
    "#save data to a mongodb collection \n",
    "db.southAmericanPopulation.insert_many(data)\n",
    "\n",
    "data = southAmerican_population_forcast_df.to_dict(orient=\"records\")\n",
    "db.southAmericanPopulationForcast.insert_many(data)"
   ]
  },
  {
   "cell_type": "code",
   "execution_count": 46,
   "id": "63261f51",
   "metadata": {},
   "outputs": [
    {
     "data": {
      "text/plain": [
       "<pymongo.results.InsertManyResult at 0x129cdcc1b70>"
      ]
     },
     "execution_count": 46,
     "metadata": {},
     "output_type": "execute_result"
    }
   ],
   "source": [
    "#convert dataframe to dictionary\n",
    "data = northAmerican_population_df.to_dict(orient=\"records\")\n",
    "#save data to a mongodb collection \n",
    "db.northAmericanPopulation.insert_many(data)\n",
    "\n",
    "data = northAmerican_population_forcast_df.to_dict(orient=\"records\")\n",
    "db.northAmericanPopulationForcast.insert_many(data)"
   ]
  },
  {
   "cell_type": "code",
   "execution_count": 47,
   "id": "d2d58d94",
   "metadata": {},
   "outputs": [
    {
     "data": {
      "text/plain": [
       "<pymongo.results.InsertManyResult at 0x129cdcc1e10>"
      ]
     },
     "execution_count": 47,
     "metadata": {},
     "output_type": "execute_result"
    }
   ],
   "source": [
    "#convert dataframe to dictionary\n",
    "data = oceanian_population_df.to_dict(orient=\"records\")\n",
    "#save data to a mongodb collection \n",
    "db.oceanianPopulation.insert_many(data)\n",
    "\n",
    "data = oceanian_population_forcast_df.to_dict(orient=\"records\")\n",
    "db.oceanianPopulationForcast.insert_many(data)"
   ]
  },
  {
   "cell_type": "code",
   "execution_count": null,
   "id": "f087d138",
   "metadata": {},
   "outputs": [],
   "source": []
  },
  {
   "cell_type": "code",
   "execution_count": null,
   "id": "7f9a1018",
   "metadata": {},
   "outputs": [],
   "source": []
  }
 ],
 "metadata": {
  "kernelspec": {
   "display_name": "Python 3 (ipykernel)",
   "language": "python",
   "name": "python3"
  },
  "language_info": {
   "codemirror_mode": {
    "name": "ipython",
    "version": 3
   },
   "file_extension": ".py",
   "mimetype": "text/x-python",
   "name": "python",
   "nbconvert_exporter": "python",
   "pygments_lexer": "ipython3",
   "version": "3.10.4"
  }
 },
 "nbformat": 4,
 "nbformat_minor": 5
}
