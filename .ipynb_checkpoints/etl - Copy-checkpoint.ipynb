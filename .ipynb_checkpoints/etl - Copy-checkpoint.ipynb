{
 "cells": [
  {
   "cell_type": "code",
   "execution_count": 16,
   "id": "d1eba9ac",
   "metadata": {},
   "outputs": [],
   "source": [
    "#pip install webdriver_manager"
   ]
  },
  {
   "cell_type": "code",
   "execution_count": 1,
   "id": "bb77a055",
   "metadata": {},
   "outputs": [],
   "source": [
    "from selenium import webdriver\n",
    "from selenium.webdriver.common.keys import Keys\n",
    "import pandas as pd\n",
    "from selenium.webdriver.common.by import By"
   ]
  },
  {
   "cell_type": "markdown",
   "id": "207d601c",
   "metadata": {},
   "source": [
    "# Chrome webDriver"
   ]
  },
  {
   "cell_type": "code",
   "execution_count": 2,
   "id": "50f5b68d",
   "metadata": {},
   "outputs": [
    {
     "name": "stderr",
     "output_type": "stream",
     "text": [
      "C:\\Users\\Amal\\AppData\\Local\\Temp\\ipykernel_15812\\541127239.py:2: DeprecationWarning: executable_path has been deprecated, please pass in a Service object\n",
      "  driver = webdriver.Chrome('C:/Users/Amal/Desktop/chromedriver')\n"
     ]
    }
   ],
   "source": [
    "#Chrome webDriver\n",
    "driver = webdriver.Chrome('C:/Users/Amal/Desktop/chromedriver')\n"
   ]
  },
  {
   "cell_type": "markdown",
   "id": "f08a8580",
   "metadata": {},
   "source": [
    "# Scrapping Population by Continents"
   ]
  },
  {
   "cell_type": "markdown",
   "id": "3288e556",
   "metadata": {},
   "source": [
    "## 1. Africa"
   ]
  },
  {
   "cell_type": "code",
   "execution_count": 3,
   "id": "a82d906e",
   "metadata": {},
   "outputs": [],
   "source": [
    "def scrappingByContinent(url):\n",
    "    driver.get(url)\n",
    "    #years\n",
    "    years = driver.find_elements(by=By.XPATH, value='//table[@class=\"table table-striped table-bordered table-hover table-condensed table-list\"]/tbody/tr/td[1]')\n",
    "    years_list = []\n",
    "    for y in range(len(years)):\n",
    "        years_list.append(years[y].text)\n",
    "    #print(years_list)\n",
    "    \n",
    "    #population\n",
    "    population = driver.find_elements(by=By.XPATH, value='//table[@class=\"table table-striped table-bordered table-hover table-condensed table-list\"]/tbody/tr/td[2]')\n",
    "    population_list = []\n",
    "    for p in range(len(population)):\n",
    "        population_list.append(population[p].text)\n",
    "    #print(population_list)\n",
    "    \n",
    "    #Fertility Rate\n",
    "    fertilityRate = driver.find_elements(by=By.XPATH, value='//table[@class=\"table table-striped table-bordered table-hover table-condensed table-list\"]/tbody/tr/td[7]')\n",
    "    fertilityRate_list = []\n",
    "    for f in range(len(fertilityRate)):\n",
    "        fertilityRate_list.append(fertilityRate[f].text)\n",
    "    #print(fertilityRate_list)\n",
    "    \n",
    "    #Urban Population\n",
    "    urbanPopulation = driver.find_elements(by=By.XPATH, value='//table[@class=\"table table-striped table-bordered table-hover table-condensed table-list\"]/tbody/tr/td[10]')\n",
    "    urbanPopulation_list = []\n",
    "    for up in range(len(urbanPopulation)):\n",
    "        urbanPopulation_list.append(urbanPopulation[up].text)\n",
    "    #print(urbanPopulation_list)\n",
    "    \n",
    "    #Create Dataframe\n",
    "    population_df = pd.DataFrame(list(zip(years_list, population_list, medianAge_list, urbanPopulation_list)),\n",
    "               columns =['Year', 'Population','Fertility Rate','Urban Population'])\n",
    "    return population_df\n"
   ]
  },
  {
   "cell_type": "code",
   "execution_count": null,
   "id": "e1787fff",
   "metadata": {},
   "outputs": [],
   "source": [
    "african_df = scrappingByContinent('https://www.worldometers.info/world-population/africa-population/')\n",
    "african_df.head()"
   ]
  },
  {
   "cell_type": "code",
   "execution_count": 10,
   "id": "ee6ca57b",
   "metadata": {},
   "outputs": [
    {
     "data": {
      "text/html": [
       "<div>\n",
       "<style scoped>\n",
       "    .dataframe tbody tr th:only-of-type {\n",
       "        vertical-align: middle;\n",
       "    }\n",
       "\n",
       "    .dataframe tbody tr th {\n",
       "        vertical-align: top;\n",
       "    }\n",
       "\n",
       "    .dataframe thead th {\n",
       "        text-align: right;\n",
       "    }\n",
       "</style>\n",
       "<table border=\"1\" class=\"dataframe\">\n",
       "  <thead>\n",
       "    <tr style=\"text-align: right;\">\n",
       "      <th></th>\n",
       "      <th>Year</th>\n",
       "      <th>Population</th>\n",
       "      <th>Median Age</th>\n",
       "      <th>Urban Population</th>\n",
       "    </tr>\n",
       "  </thead>\n",
       "  <tbody>\n",
       "    <tr>\n",
       "      <th>0</th>\n",
       "      <td>2020</td>\n",
       "      <td>4,641,054,775</td>\n",
       "      <td>32.0</td>\n",
       "      <td>2,361,464,416</td>\n",
       "    </tr>\n",
       "    <tr>\n",
       "      <th>1</th>\n",
       "      <td>2019</td>\n",
       "      <td>4,601,371,198</td>\n",
       "      <td>30.6</td>\n",
       "      <td>2,314,051,549</td>\n",
       "    </tr>\n",
       "    <tr>\n",
       "      <th>2</th>\n",
       "      <td>2018</td>\n",
       "      <td>4,560,667,108</td>\n",
       "      <td>30.6</td>\n",
       "      <td>2,266,130,580</td>\n",
       "    </tr>\n",
       "    <tr>\n",
       "      <th>3</th>\n",
       "      <td>2017</td>\n",
       "      <td>4,519,040,027</td>\n",
       "      <td>30.6</td>\n",
       "      <td>2,217,723,679</td>\n",
       "    </tr>\n",
       "    <tr>\n",
       "      <th>4</th>\n",
       "      <td>2016</td>\n",
       "      <td>4,476,607,853</td>\n",
       "      <td>30.6</td>\n",
       "      <td>2,168,879,760</td>\n",
       "    </tr>\n",
       "  </tbody>\n",
       "</table>\n",
       "</div>"
      ],
      "text/plain": [
       "   Year     Population Median Age Urban Population\n",
       "0  2020  4,641,054,775       32.0    2,361,464,416\n",
       "1  2019  4,601,371,198       30.6    2,314,051,549\n",
       "2  2018  4,560,667,108       30.6    2,266,130,580\n",
       "3  2017  4,519,040,027       30.6    2,217,723,679\n",
       "4  2016  4,476,607,853       30.6    2,168,879,760"
      ]
     },
     "execution_count": 10,
     "metadata": {},
     "output_type": "execute_result"
    }
   ],
   "source": [
    "asian_df = scrappingByContinent('https://www.worldometers.info/world-population/asia-population/')\n",
    "asian_df.head()"
   ]
  },
  {
   "cell_type": "code",
   "execution_count": 11,
   "id": "53d105e6",
   "metadata": {},
   "outputs": [
    {
     "data": {
      "text/html": [
       "<div>\n",
       "<style scoped>\n",
       "    .dataframe tbody tr th:only-of-type {\n",
       "        vertical-align: middle;\n",
       "    }\n",
       "\n",
       "    .dataframe tbody tr th {\n",
       "        vertical-align: top;\n",
       "    }\n",
       "\n",
       "    .dataframe thead th {\n",
       "        text-align: right;\n",
       "    }\n",
       "</style>\n",
       "<table border=\"1\" class=\"dataframe\">\n",
       "  <thead>\n",
       "    <tr style=\"text-align: right;\">\n",
       "      <th></th>\n",
       "      <th>Year</th>\n",
       "      <th>Population</th>\n",
       "      <th>Median Age</th>\n",
       "      <th>Urban Population</th>\n",
       "    </tr>\n",
       "  </thead>\n",
       "  <tbody>\n",
       "    <tr>\n",
       "      <th>0</th>\n",
       "      <td>2020</td>\n",
       "      <td>747,636,026</td>\n",
       "      <td>42.5</td>\n",
       "      <td>556,684,039</td>\n",
       "    </tr>\n",
       "    <tr>\n",
       "      <th>1</th>\n",
       "      <td>2019</td>\n",
       "      <td>747,182,751</td>\n",
       "      <td>41.7</td>\n",
       "      <td>554,832,332</td>\n",
       "    </tr>\n",
       "    <tr>\n",
       "      <th>2</th>\n",
       "      <td>2018</td>\n",
       "      <td>746,419,440</td>\n",
       "      <td>41.7</td>\n",
       "      <td>552,911,225</td>\n",
       "    </tr>\n",
       "    <tr>\n",
       "      <th>3</th>\n",
       "      <td>2017</td>\n",
       "      <td>745,414,735</td>\n",
       "      <td>41.7</td>\n",
       "      <td>550,959,276</td>\n",
       "    </tr>\n",
       "    <tr>\n",
       "      <th>4</th>\n",
       "      <td>2016</td>\n",
       "      <td>744,268,827</td>\n",
       "      <td>41.7</td>\n",
       "      <td>549,030,165</td>\n",
       "    </tr>\n",
       "  </tbody>\n",
       "</table>\n",
       "</div>"
      ],
      "text/plain": [
       "   Year   Population Median Age Urban Population\n",
       "0  2020  747,636,026       42.5      556,684,039\n",
       "1  2019  747,182,751       41.7      554,832,332\n",
       "2  2018  746,419,440       41.7      552,911,225\n",
       "3  2017  745,414,735       41.7      550,959,276\n",
       "4  2016  744,268,827       41.7      549,030,165"
      ]
     },
     "execution_count": 11,
     "metadata": {},
     "output_type": "execute_result"
    }
   ],
   "source": [
    "european_df = scrappingByContinent('https://www.worldometers.info/world-population/europe-population/')\n",
    "european_df.head()"
   ]
  },
  {
   "cell_type": "code",
   "execution_count": 12,
   "id": "0e792768",
   "metadata": {},
   "outputs": [
    {
     "data": {
      "text/html": [
       "<div>\n",
       "<style scoped>\n",
       "    .dataframe tbody tr th:only-of-type {\n",
       "        vertical-align: middle;\n",
       "    }\n",
       "\n",
       "    .dataframe tbody tr th {\n",
       "        vertical-align: top;\n",
       "    }\n",
       "\n",
       "    .dataframe thead th {\n",
       "        text-align: right;\n",
       "    }\n",
       "</style>\n",
       "<table border=\"1\" class=\"dataframe\">\n",
       "  <thead>\n",
       "    <tr style=\"text-align: right;\">\n",
       "      <th></th>\n",
       "      <th>Year</th>\n",
       "      <th>Population</th>\n",
       "      <th>Median Age</th>\n",
       "      <th>Urban Population</th>\n",
       "    </tr>\n",
       "  </thead>\n",
       "  <tbody>\n",
       "    <tr>\n",
       "      <th>0</th>\n",
       "      <td>2020</td>\n",
       "      <td>42,677,813</td>\n",
       "      <td>33.4</td>\n",
       "      <td>28,919,183</td>\n",
       "    </tr>\n",
       "    <tr>\n",
       "      <th>1</th>\n",
       "      <td>2019</td>\n",
       "      <td>42,128,035</td>\n",
       "      <td>32.7</td>\n",
       "      <td>28,525,534</td>\n",
       "    </tr>\n",
       "    <tr>\n",
       "      <th>2</th>\n",
       "      <td>2018</td>\n",
       "      <td>41,570,842</td>\n",
       "      <td>32.7</td>\n",
       "      <td>28,129,029</td>\n",
       "    </tr>\n",
       "    <tr>\n",
       "      <th>3</th>\n",
       "      <td>2017</td>\n",
       "      <td>41,006,505</td>\n",
       "      <td>32.7</td>\n",
       "      <td>27,731,037</td>\n",
       "    </tr>\n",
       "    <tr>\n",
       "      <th>4</th>\n",
       "      <td>2016</td>\n",
       "      <td>40,435,646</td>\n",
       "      <td>32.7</td>\n",
       "      <td>27,333,514</td>\n",
       "    </tr>\n",
       "  </tbody>\n",
       "</table>\n",
       "</div>"
      ],
      "text/plain": [
       "   Year  Population Median Age Urban Population\n",
       "0  2020  42,677,813       33.4       28,919,183\n",
       "1  2019  42,128,035       32.7       28,525,534\n",
       "2  2018  41,570,842       32.7       28,129,029\n",
       "3  2017  41,006,505       32.7       27,731,037\n",
       "4  2016  40,435,646       32.7       27,333,514"
      ]
     },
     "execution_count": 12,
     "metadata": {},
     "output_type": "execute_result"
    }
   ],
   "source": [
    "oceanian_df = scrappingByContinent('https://www.worldometers.info/world-population/oceania-population/')\n",
    "oceanian_df.head()"
   ]
  },
  {
   "cell_type": "code",
   "execution_count": 13,
   "id": "73b13af0",
   "metadata": {},
   "outputs": [
    {
     "data": {
      "text/html": [
       "<div>\n",
       "<style scoped>\n",
       "    .dataframe tbody tr th:only-of-type {\n",
       "        vertical-align: middle;\n",
       "    }\n",
       "\n",
       "    .dataframe tbody tr th {\n",
       "        vertical-align: top;\n",
       "    }\n",
       "\n",
       "    .dataframe thead th {\n",
       "        text-align: right;\n",
       "    }\n",
       "</style>\n",
       "<table border=\"1\" class=\"dataframe\">\n",
       "  <thead>\n",
       "    <tr style=\"text-align: right;\">\n",
       "      <th></th>\n",
       "      <th>Year</th>\n",
       "      <th>Population</th>\n",
       "      <th>Median Age</th>\n",
       "      <th>Urban Population</th>\n",
       "    </tr>\n",
       "  </thead>\n",
       "  <tbody>\n",
       "    <tr>\n",
       "      <th>0</th>\n",
       "      <td>2020</td>\n",
       "      <td>653,962,331</td>\n",
       "      <td>31.0</td>\n",
       "      <td>539,427,335</td>\n",
       "    </tr>\n",
       "    <tr>\n",
       "      <th>1</th>\n",
       "      <td>2019</td>\n",
       "      <td>648,120,957</td>\n",
       "      <td>29.5</td>\n",
       "      <td>532,783,467</td>\n",
       "    </tr>\n",
       "    <tr>\n",
       "      <th>2</th>\n",
       "      <td>2018</td>\n",
       "      <td>642,216,682</td>\n",
       "      <td>29.5</td>\n",
       "      <td>526,057,192</td>\n",
       "    </tr>\n",
       "    <tr>\n",
       "      <th>3</th>\n",
       "      <td>2017</td>\n",
       "      <td>636,233,123</td>\n",
       "      <td>29.5</td>\n",
       "      <td>519,249,889</td>\n",
       "    </tr>\n",
       "    <tr>\n",
       "      <th>4</th>\n",
       "      <td>2016</td>\n",
       "      <td>630,144,555</td>\n",
       "      <td>29.5</td>\n",
       "      <td>512,362,472</td>\n",
       "    </tr>\n",
       "  </tbody>\n",
       "</table>\n",
       "</div>"
      ],
      "text/plain": [
       "   Year   Population Median Age Urban Population\n",
       "0  2020  653,962,331       31.0      539,427,335\n",
       "1  2019  648,120,957       29.5      532,783,467\n",
       "2  2018  642,216,682       29.5      526,057,192\n",
       "3  2017  636,233,123       29.5      519,249,889\n",
       "4  2016  630,144,555       29.5      512,362,472"
      ]
     },
     "execution_count": 13,
     "metadata": {},
     "output_type": "execute_result"
    }
   ],
   "source": [
    "southAmerican_df = scrappingByContinent('https://www.worldometers.info/world-population/latin-america-and-the-caribbean-population/')\n",
    "southAmerican_df.head()"
   ]
  },
  {
   "cell_type": "code",
   "execution_count": 15,
   "id": "455af52b",
   "metadata": {},
   "outputs": [
    {
     "data": {
      "text/html": [
       "<div>\n",
       "<style scoped>\n",
       "    .dataframe tbody tr th:only-of-type {\n",
       "        vertical-align: middle;\n",
       "    }\n",
       "\n",
       "    .dataframe tbody tr th {\n",
       "        vertical-align: top;\n",
       "    }\n",
       "\n",
       "    .dataframe thead th {\n",
       "        text-align: right;\n",
       "    }\n",
       "</style>\n",
       "<table border=\"1\" class=\"dataframe\">\n",
       "  <thead>\n",
       "    <tr style=\"text-align: right;\">\n",
       "      <th></th>\n",
       "      <th>Year</th>\n",
       "      <th>Population</th>\n",
       "      <th>Median Age</th>\n",
       "      <th>Urban Population</th>\n",
       "    </tr>\n",
       "  </thead>\n",
       "  <tbody>\n",
       "    <tr>\n",
       "      <th>0</th>\n",
       "      <td>2020</td>\n",
       "      <td>368,869,647</td>\n",
       "      <td>38.0</td>\n",
       "      <td>304,761,178</td>\n",
       "    </tr>\n",
       "    <tr>\n",
       "      <th>1</th>\n",
       "      <td>2019</td>\n",
       "      <td>366,600,964</td>\n",
       "      <td>38.0</td>\n",
       "      <td>301,858,117</td>\n",
       "    </tr>\n",
       "    <tr>\n",
       "      <th>2</th>\n",
       "      <td>2018</td>\n",
       "      <td>364,295,996</td>\n",
       "      <td>38.0</td>\n",
       "      <td>298,987,110</td>\n",
       "    </tr>\n",
       "    <tr>\n",
       "      <th>3</th>\n",
       "      <td>2017</td>\n",
       "      <td>361,942,268</td>\n",
       "      <td>38.0</td>\n",
       "      <td>296,153,390</td>\n",
       "    </tr>\n",
       "    <tr>\n",
       "      <th>4</th>\n",
       "      <td>2016</td>\n",
       "      <td>359,524,647</td>\n",
       "      <td>38.0</td>\n",
       "      <td>293,362,886</td>\n",
       "    </tr>\n",
       "  </tbody>\n",
       "</table>\n",
       "</div>"
      ],
      "text/plain": [
       "   Year   Population Median Age Urban Population\n",
       "0  2020  368,869,647       38.0      304,761,178\n",
       "1  2019  366,600,964       38.0      301,858,117\n",
       "2  2018  364,295,996       38.0      298,987,110\n",
       "3  2017  361,942,268       38.0      296,153,390\n",
       "4  2016  359,524,647       38.0      293,362,886"
      ]
     },
     "execution_count": 15,
     "metadata": {},
     "output_type": "execute_result"
    }
   ],
   "source": [
    "northAmerican_df = scrappingByContinent('https://www.worldometers.info/world-population/northern-america-population/')\n",
    "northAmerican_df.head()"
   ]
  },
  {
   "cell_type": "code",
   "execution_count": null,
   "id": "61b0e7fb",
   "metadata": {},
   "outputs": [],
   "source": []
  }
 ],
 "metadata": {
  "kernelspec": {
   "display_name": "Python 3 (ipykernel)",
   "language": "python",
   "name": "python3"
  },
  "language_info": {
   "codemirror_mode": {
    "name": "ipython",
    "version": 3
   },
   "file_extension": ".py",
   "mimetype": "text/x-python",
   "name": "python",
   "nbconvert_exporter": "python",
   "pygments_lexer": "ipython3",
   "version": "3.10.4"
  }
 },
 "nbformat": 4,
 "nbformat_minor": 5
}
